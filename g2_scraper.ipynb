{
 "metadata": {
  "language_info": {
   "codemirror_mode": {
    "name": "ipython",
    "version": 3
   },
   "file_extension": ".py",
   "mimetype": "text/x-python",
   "name": "python",
   "nbconvert_exporter": "python",
   "pygments_lexer": "ipython3",
   "version": "3.8.3"
  },
  "orig_nbformat": 4,
  "kernelspec": {
   "name": "python3",
   "display_name": "Python 3.8.3 64-bit ('base': conda)"
  },
  "interpreter": {
   "hash": "369c964a41b485aa0122eb5be6b7d32009652cd825906266368b6d9fd0e813c6"
  }
 },
 "nbformat": 4,
 "nbformat_minor": 2,
 "cells": [
  {
   "cell_type": "code",
   "execution_count": null,
   "metadata": {},
   "outputs": [],
   "source": [
    "from selenium import webdriver\n",
    "import selenium as se\n",
    "from selenium.webdriver import ActionChains\n",
    "# import undetected_chromedriver as uc \n",
    "import time\n",
    "from time import sleep\n",
    "import pandas as pd \n",
    "\n",
    "options = se.webdriver.ChromeOptions()\n",
    "options.add_argument('--headless')\n",
    "options.add_argument('--disable-infobars')\n",
    "options.add_argument('--disable-extensions')\n",
    "options.add_argument('--profile-directory=Default')\n",
    "options.add_argument('--incognito')\n",
    "options.add_argument('--disable-plugins-discovery')\n",
    "options.add_argument('--start-maximized')\n",
    "driver = webdriver.Chrome(options=options)\n",
    "\n",
    "g2_info = [] # Save info scrapped from g2\n",
    "def fetch(URL):\n",
    "    driver = webdriver.Chrome(options=options)\n",
    "    driver.get(URL)\n",
    "    print(driver.title)\n",
    "    return driver\n",
    "\n",
    "def hover_click(xpath):\n",
    "    # Show, hover, then click button\n",
    "    button = d.find_element_by_xpath(xpath)  \n",
    "    d.execute_script(\"arguments[0].scrollIntoView();\", button) \n",
    "    d.execute_script('window.scrollBy(0,-80)') # scroll up a bit so that the button is truly in view\n",
    "    ActionChains(d).move_to_element(button).perform() # hover, otherwise can't click\n",
    "    d.execute_script('arguments[0].click();', button)\n",
    "\n",
    "\n",
    "def retriever(d, name):\n",
    "    sleep(0.8)\n",
    "    URL = d.find_element_by_xpath('/html/head/meta[10]').get_property('content')\n",
    "    website = d.find_element_by_xpath('//*[@id=\"leads-sticky-top\"]/div/div[1]/div[3]/div[1]/div[2]/div[2]/div[1]/div[1]/div/div/a').get_property('href')\n",
    "\n",
    "    # try & except on rating and num_view, because some companies don't have them\n",
    "    try:\n",
    "        rating = d.find_element_by_xpath('//*[@id=\"products-dropdown\"]/div[1]/div[1]/span[1]').get_attribute('innerHTML')\n",
    "    except NoSuchElementException:\n",
    "        rating = None\n",
    "\n",
    "    try:\n",
    "        num_review = d.find_element_by_xpath('/html/body/div[1]/div/div/div[1]/div/div[3]/div[1]/div[2]/div[2]/div[2]/div/div[2]/span/meta[4]').get_property('content')\n",
    "    except NoSuchElementException:\n",
    "        num_review = None\n",
    "\n",
    "    description = d.find_element_by_xpath('//*[@id=\"leads-sticky-top\"]/div/div[1]/div[3]/div[1]/div[1]/div[2]/div/p').get_attribute('innerHTML')\n",
    "\n",
    "    # Click 'show more' to see details\n",
    "    hover_click('//*[@id=\"leads-sticky-top\"]/div/div[1]/div[3]/div/div[2]/a')\n",
    "    detail = d.find_element_by_xpath('//*[@id=\"leads-sticky-top\"]/div/div[1]/div[3]/div[1]/div[2]').get_attribute('innerText')\n",
    "\n",
    "    pricing_url = 'https://www.g2.com/products/' + name + '/pricing'\n",
    "    d = fetch(pricing_url)\n",
    "    try:\n",
    "        pricing = d.find_element_by_xpath('//*[@id=\"leads-sticky-top\"]/div/div[1]/div[2]/table/tbody').get_attribute('innerText')\n",
    "    except NoSuchElementException:\n",
    "        pricing = None\n",
    "    \n",
    "    alternative_url = 'https://www.g2.com/products/' + name + '/competitors/alternatives'\n",
    "    d = fetch(alternative_url)\n",
    "    show_more_xpath = '/html/body/div[1]/div/div/div[1]/div/div[5]/div[1]/div/div/div[3]/div/div/a'\n",
    "    # Can't use hover_click(), requires a different method\n",
    "    button = d.find_element_by_xpath(show_more_xpath)  \n",
    "    d.execute_script('window.scrollBy(0,220)') # Scroll down a bit\n",
    "    ActionChains(d).move_to_element(button).perform() \n",
    "    d.execute_script('arguments[0].click();', button)\n",
    "    alternatives = d.find_element_by_xpath('/html/body/div[1]/div/div/div[1]/div/div[5]/div[1]/div/div/div[3]/div/ul').get_attribute('innerText')\n",
    "\n",
    "    g2_info.append([name, URL, website, rating, num_review, description, detail, pricing, alternatives])\n",
    "\n",
    "\n",
    "df = pd.read_csv('data_scientist_intern_g2_scraper.csv')\n",
    "companies = df['NAME']\n",
    "for company in companies:\n",
    "    product_url = 'https://www.g2.com/products/' + company + '/reviews'\n",
    "    d = fetch(product_url)\n",
    "    # If can't find this company(404), ignore this company and continue\n",
    "    # Else retrieve information\n",
    "    try:\n",
    "        d.find_element_by_class_name('error-text-number')\n",
    "    except NoSuchElementException:\n",
    "        retriever(d,company)\n",
    "    else:\n",
    "        continue\n",
    "    sleep(0.8)\n"
   ]
  },
  {
   "cell_type": "code",
   "execution_count": null,
   "metadata": {},
   "outputs": [],
   "source": [
    "# Transfer scrapped data into a dataframe\n",
    "col = ['NAME', 'URL', 'website', 'rating', 'num_review', 'description', 'detail', 'pricing', 'alternatives']\n",
    "g2_info = pd.DataFrame(g2_info, columns=col)\n",
    "\n",
    "# This code is used to remove the 'show less' from the end of column detail and alternatives. Unfortunately I missed the oppotunity to use it.\n",
    "# g2_info['detail'] = g2_info['detail'].map(lambda x: str(x)[:-9])\n",
    "# g2_info['alternatives'] = g2_info['alternatives'].map(lambda x: str(x)[:-9])\n",
    "\n",
    "# Join the original table with new table\n",
    "scraper = pd.merge(df,g2_info, how='left' ,on=['NAME'])\n",
    "scraper.to_csv('data_scientist_intern_g2_scraper.csv', index=None)"
   ]
  },
  {
   "source": [
    "I only scrapped one company's pricing and alternatives info before CloudFlare blocked me. Here is the result."
   ],
   "cell_type": "markdown",
   "metadata": {}
  },
  {
   "cell_type": "code",
   "execution_count": 275,
   "metadata": {},
   "outputs": [
    {
     "output_type": "execute_result",
     "data": {
      "text/plain": [
       "[['Shift',\n",
       "  'https://www.g2.com/products/shift/reviews',\n",
       "  'https://shiftelearning.com/',\n",
       "  '4.0',\n",
       "  '2',\n",
       "  \"SHIFT is a web-based e-learning authoring tool that offers a programming- free environment for creating highly interactive e-learning courses that can be published on any standards-compliant LMS, PC's, tablet devices or mobile devices.\",\n",
       "  'SHIFT Details\\nWebsite\\nSHIFT\\nDiscussions\\nSHIFT Community\\nLanguages Supported\\nEnglish, Spanish\\nProduct Description\\n\\nWith SHIFT, anyone can create visually compelling training courses that seamlessly play across phones, tablets, and browsers.\\n\\nSeller Details\\nSeller\\nAura Interactiva\\nCompany Website\\nwww.aurainteractiva.com\\nYear Founded\\n1996\\nTwitter\\n@aurainteractiva\\n6,424 Twitter followers\\nLinkedIn® Page\\nwww.linkedin.com\\n62 employees on LinkedIn®\\nKG\\n\\t\\nOverview Provided by:\\nKarla Gutierrez\\nMarketing Manager and Digital Strategist at Aura Interactiva\\nShow Less',\n",
       "  None,\n",
       "  'Brainshark\\nSAP Litmos\\nLessonly\\niSpring Suite\\nArticulate Storyline 3']]"
      ]
     },
     "metadata": {},
     "execution_count": 275
    }
   ],
   "source": [
    "g2_info"
   ]
  }
 ]
}