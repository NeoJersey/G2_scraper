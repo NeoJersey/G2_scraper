{
 "metadata": {
  "language_info": {
   "codemirror_mode": {
    "name": "ipython",
    "version": 3
   },
   "file_extension": ".py",
   "mimetype": "text/x-python",
   "name": "python",
   "nbconvert_exporter": "python",
   "pygments_lexer": "ipython3",
   "version": "3.8.3"
  },
  "orig_nbformat": 4,
  "kernelspec": {
   "name": "python3",
   "display_name": "Python 3.8.3 64-bit ('base': conda)"
  },
  "interpreter": {
   "hash": "369c964a41b485aa0122eb5be6b7d32009652cd825906266368b6d9fd0e813c6"
  }
 },
 "nbformat": 4,
 "nbformat_minor": 2,
 "cells": [
  {
   "cell_type": "code",
   "execution_count": 248,
   "metadata": {},
   "outputs": [],
   "source": [
    "from selenium import webdriver\n",
    "import selenium as se\n",
    "from selenium.webdriver import ActionChains\n",
    "import undetected_chromedriver as uc \n",
    "import time\n",
    "from time import sleep\n",
    "import pandas as pd \n",
    "\n",
    "# driver = webdriver.Chrome()\n",
    "# driver.get('https://www.baidu.com')\n"
   ]
  },
  {
   "cell_type": "code",
   "execution_count": 249,
   "metadata": {},
   "outputs": [],
   "source": [
    "def fetch(URL):\n",
    "    options = se.webdriver.ChromeOptions()\n",
    "    options.add_argument('--headless')\n",
    "    options.add_argument('--disable-infobars')\n",
    "    options.add_argument('--disable-extensions')\n",
    "    options.add_argument('--profile-directory=Default')\n",
    "    options.add_argument('--incognito')\n",
    "    options.add_argument('--disable-plugins-discovery')\n",
    "    options.add_argument('--start-maximized')\n",
    "    driver = uc.Chrome(options=options)\n",
    "    driver.get(URL)\n",
    "\n",
    "    print(driver.title)\n",
    "    return driver\n",
    "\n",
    "\n",
    "# d = fetch('https://www.g2.com/products/dropbox/reviews')\n",
    "# company_detail = d.find_element_by_xpath('//*[@id=\"leads-sticky-top\"]/div/div[1]/div[3]/div[1]/div[2]/div[5]') #没有空格区分，但已经有全部内容了\n",
    "# det = d.find_element_by_class_name('ml-1')\n",
    "# det = d.find_element_by_xpath('//*[@id=\"leads-sticky-top\"]/div/div[1]/div[3]/div[1]/div[2]/div[5]/text()')\n",
    "# print(det.text)"
   ]
  },
  {
   "cell_type": "code",
   "execution_count": 217,
   "metadata": {},
   "outputs": [
    {
     "output_type": "stream",
     "name": "stdout",
     "text": [
      "Not Found\n",
      "SHIFT Reviews 2021: Details, Pricing, & Features | G2\n",
      "https://www.g2.com/products/shift/reviews https://shiftelearning.com/ 4.0 2 SHIFT is a web-based e-learning authoring tool that offers a programming- free environment for creating highly interactive e-learning courses that can be published on any standards-compliant LMS, PC's, tablet devices or mobile devices. SHIFT Details\n",
      "Website\n",
      "SHIFT\n",
      "Discussions\n",
      "SHIFT Community\n",
      "Languages Supported\n",
      "English, Spanish\n",
      "Product Description\n",
      "\n",
      "With SHIFT, anyone can create visually compelling training courses that seamlessly play across phones, tablets, and browsers.\n",
      "\n",
      "Seller Details\n",
      "Seller\n",
      "Aura Interactiva\n",
      "Company Website\n",
      "www.aurainteractiva.com\n",
      "Year Founded\n",
      "1996\n",
      "Twitter\n",
      "@aurainteractiva\n",
      "6,424 Twitter followers\n",
      "LinkedIn® Page\n",
      "www.linkedin.com\n",
      "62 employees on LinkedIn®\n",
      "KG\n",
      "\t\n",
      "Overview Provided by:\n",
      "Karla Gutierrez\n",
      "Marketing Manager and Digital Strategist at Aura Interactiva\n",
      "Show Less\n",
      "Not Found\n",
      "Not Found\n",
      "Forecast Reviews 2021: Details, Pricing, & Features | G2\n",
      "https://www.g2.com/products/forecast/reviews https://www.getharvest.com/forecast 4.4 36 Forecast organizes your team’s schedule into visual plans that let you map out your\n",
      "upcoming projects and make smarter resourcing decisions. Forecast's color-coded visual plans make it easy to see how long a project is scheduled to take, who's working on what, and who's overbooked.\n",
      "\n",
      "Forecast makes it easy to assign people to projects and then view your plans either by project or by people. Red bars indicate when an employee is overbooked, so you can move projects and deadlines around before they become burnt out. It's also easy to see when someone has availability to take on a new project and exactly how much time they can devote to it. Share your plans with the entire team so everyone knows what they should be working on, and when. \n",
      "\n",
      "Integrate Forecast with its sister app Harvest to gain insight into project progress and improve your estimating and scheduling. The integration brings the hours you've scheduled in Forecast into Harvest, so you can see exactly when a project will go over budget. Plus you can compare the time you scheduled for someone in Forecast with the time they actually tracked in Harvest, letting you pinpoint potential problem areas. Forecast Details\n",
      "Website\n",
      "Forecast\n",
      "Discussions\n",
      "Forecast Community\n",
      "Languages Supported\n",
      "English\n",
      "Product Description\n",
      "\n",
      "Forecast is an application designed to offer a fast and simple way to schedule teams across projects.\n",
      "\n",
      "Seller Details\n",
      "Seller\n",
      "Harvest\n",
      "Company Website\n",
      "www.getharvest.com\n",
      "Year Founded\n",
      "2006\n",
      "HQ Location\n",
      "New York, NY\n",
      "Twitter\n",
      "@harvest\n",
      "22,782 Twitter followers\n",
      "LinkedIn® Page\n",
      "www.linkedin.com\n",
      "119 employees on LinkedIn®\n",
      "\t\n",
      "Overview Provided by:\n",
      "Curran Boomer\n",
      "Marketing Manager, Go-to-Market at Harvest\n",
      "Show Less\n",
      "Not Found\n",
      "Not Found\n",
      "Not Found\n",
      "Not Found\n",
      "Mindance Reviews 2021: Details, Pricing, & Features | G2\n",
      "https://www.g2.com/products/mindance/reviews https://mindance.de/digitales-mentaltraining-fuer-unternehmen/ None None With Mindance we help you to improve the health and productivity in your company. Via our app, your employees receive individual mental training based on the latest knowledge in psychology. Mindance Details\n",
      "Website\n",
      "Mindance\n",
      "Discussions\n",
      "Mindance Community\n",
      "Product Description\n",
      "\n",
      "With Mindance we help you to improve the health and productivity in your company. Via our app, your employees receive individual mental training based on the latest knowledge in psychology.\n",
      "\n",
      "Seller Details\n",
      "Seller\n",
      "Mindance\n",
      "Company Website\n",
      "mindance.de\n",
      "Show Less\n",
      "Unmind Reviews 2021: Details, Pricing, & Features | G2\n",
      "https://www.g2.com/products/unmind/reviews https://home.unmind.com/#anchor-our-solution 4.9 9 Founded in 2016, Unmind is the leading workplace mental health platform, empowering more than 2.5 million employees around the world to live more fulfilling and balanced lives. \n",
      "\n",
      "Underpinned by clinical psychology and powered by technology, the platform helps employees proactively measure, understand, and nurture their own mental health across seven core areas of wellbeing - fulfilment, coping, calmness, happiness, connection, health, and sleep.\n",
      "\n",
      "With Unmind, leaders are empowered to drive positive cultural change across their organisation by accessing aggregated and anonymised insights into the wellbeing of their people. Uber, Virgin Media, Sainsbury’s, Gymshark, and the NHS are some of the many organisations that have partnered with Unmind to create a world where mental health is universally understood, nurtured, and celebrated.\n",
      "\n",
      "Further information about Unmind is available at: https://unmind.com/ Unmind Details\n",
      "Website\n",
      "Unmind\n",
      "Discussions\n",
      "Unmind Community\n",
      "Languages Supported\n",
      "English\n",
      "Product Description\n",
      "\n",
      "Unmind is a workplace mental health platform.We empower organisations and employees to measurably improve their mental wellbeing.\n",
      "\n",
      "Seller Details\n",
      "Seller\n",
      "Unmind\n",
      "Company Website\n",
      "www.unmind.com\n",
      "Year Founded\n",
      "2016\n",
      "HQ Location\n",
      "London, England\n",
      "LinkedIn® Page\n",
      "www.linkedin.com\n",
      "122 employees on LinkedIn®\n",
      "\t\n",
      "Overview Provided by:\n",
      "Gudrun Van Durme\n",
      "Show Less\n",
      "Not Found\n",
      "Not Found\n",
      "Birdie Reviews 2021: Details, Pricing, & Features | G2\n",
      "https://www.g2.com/products/birdie/reviews https://www.birdie.care/pricing None None Discover Birdie, your complete homecare software solution. Designed to give you better visibility over your care and support older adults to live happily at home. Birdie Details\n",
      "Website\n",
      "Birdie\n",
      "Discussions\n",
      "Birdie Community\n",
      "Product Description\n",
      "\n",
      "Discover Birdie, your complete homecare software solution. Designed to give you better visibility over your care and support older adults to live happily at home.\n",
      "\n",
      "Seller Details\n",
      "Seller\n",
      "Birdie\n",
      "Company Website\n",
      "birdie.care\n",
      "HQ Location\n",
      "N/A\n",
      "Show Less\n",
      "Not Found\n",
      "Not Found\n",
      "Internal Server Error\n",
      "Not Found\n",
      "Tame Reviews 2021: Details, Pricing, & Features | G2\n",
      "https://www.g2.com/products/tame/reviews https://tame.events/ None None Tame is a beautiful all-in-one planning tool for modern event teams. Tame Details\n",
      "Website\n",
      "Tame\n",
      "Discussions\n",
      "Tame Community\n",
      "Product Description\n",
      "\n",
      "Tame is a beautiful all-in-one planning tool for modern event teams.\n",
      "\n",
      "Seller Details\n",
      "Seller\n",
      "Tame\n",
      "Company Website\n",
      "tame.events\n",
      "CJ\n",
      "\t\n",
      "Overview Provided by:\n",
      "Christian Joergensen\n",
      "Show Less\n",
      "Not Found\n",
      "Not Found\n",
      "Just a moment...\n"
     ]
    },
    {
     "output_type": "error",
     "ename": "NoSuchElementException",
     "evalue": "Message: no such element: Unable to locate element: {\"method\":\"xpath\",\"selector\":\"/html/head/meta[10]\"}\n  (Session info: chrome=91.0.4472.114)\n",
     "traceback": [
      "\u001b[0;31m---------------------------------------------------------------------------\u001b[0m",
      "\u001b[0;31mNoSuchElementException\u001b[0m                    Traceback (most recent call last)",
      "\u001b[0;32m<ipython-input-217-afb95822f5d9>\u001b[0m in \u001b[0;36m<module>\u001b[0;34m\u001b[0m\n\u001b[1;32m     47\u001b[0m     \u001b[0;32mtry\u001b[0m\u001b[0;34m:\u001b[0m\u001b[0;34m\u001b[0m\u001b[0;34m\u001b[0m\u001b[0m\n\u001b[0;32m---> 48\u001b[0;31m         \u001b[0md\u001b[0m\u001b[0;34m.\u001b[0m\u001b[0mfind_element_by_class_name\u001b[0m\u001b[0;34m(\u001b[0m\u001b[0;34m'error-text-number'\u001b[0m\u001b[0;34m)\u001b[0m\u001b[0;34m\u001b[0m\u001b[0;34m\u001b[0m\u001b[0m\n\u001b[0m\u001b[1;32m     49\u001b[0m     \u001b[0;32mexcept\u001b[0m \u001b[0mNoSuchElementException\u001b[0m\u001b[0;34m:\u001b[0m\u001b[0;34m\u001b[0m\u001b[0;34m\u001b[0m\u001b[0m\n",
      "\u001b[0;32m~/opt/anaconda3/lib/python3.8/site-packages/selenium/webdriver/remote/webdriver.py\u001b[0m in \u001b[0;36mfind_element_by_class_name\u001b[0;34m(self, name)\u001b[0m\n\u001b[1;32m    563\u001b[0m         \"\"\"\n\u001b[0;32m--> 564\u001b[0;31m         \u001b[0;32mreturn\u001b[0m \u001b[0mself\u001b[0m\u001b[0;34m.\u001b[0m\u001b[0mfind_element\u001b[0m\u001b[0;34m(\u001b[0m\u001b[0mby\u001b[0m\u001b[0;34m=\u001b[0m\u001b[0mBy\u001b[0m\u001b[0;34m.\u001b[0m\u001b[0mCLASS_NAME\u001b[0m\u001b[0;34m,\u001b[0m \u001b[0mvalue\u001b[0m\u001b[0;34m=\u001b[0m\u001b[0mname\u001b[0m\u001b[0;34m)\u001b[0m\u001b[0;34m\u001b[0m\u001b[0;34m\u001b[0m\u001b[0m\n\u001b[0m\u001b[1;32m    565\u001b[0m \u001b[0;34m\u001b[0m\u001b[0m\n",
      "\u001b[0;32m~/opt/anaconda3/lib/python3.8/site-packages/selenium/webdriver/remote/webdriver.py\u001b[0m in \u001b[0;36mfind_element\u001b[0;34m(self, by, value)\u001b[0m\n\u001b[1;32m    975\u001b[0m                 \u001b[0mvalue\u001b[0m \u001b[0;34m=\u001b[0m \u001b[0;34m'[name=\"%s\"]'\u001b[0m \u001b[0;34m%\u001b[0m \u001b[0mvalue\u001b[0m\u001b[0;34m\u001b[0m\u001b[0;34m\u001b[0m\u001b[0m\n\u001b[0;32m--> 976\u001b[0;31m         return self.execute(Command.FIND_ELEMENT, {\n\u001b[0m\u001b[1;32m    977\u001b[0m             \u001b[0;34m'using'\u001b[0m\u001b[0;34m:\u001b[0m \u001b[0mby\u001b[0m\u001b[0;34m,\u001b[0m\u001b[0;34m\u001b[0m\u001b[0;34m\u001b[0m\u001b[0m\n",
      "\u001b[0;32m~/opt/anaconda3/lib/python3.8/site-packages/selenium/webdriver/remote/webdriver.py\u001b[0m in \u001b[0;36mexecute\u001b[0;34m(self, driver_command, params)\u001b[0m\n\u001b[1;32m    320\u001b[0m         \u001b[0;32mif\u001b[0m \u001b[0mresponse\u001b[0m\u001b[0;34m:\u001b[0m\u001b[0;34m\u001b[0m\u001b[0;34m\u001b[0m\u001b[0m\n\u001b[0;32m--> 321\u001b[0;31m             \u001b[0mself\u001b[0m\u001b[0;34m.\u001b[0m\u001b[0merror_handler\u001b[0m\u001b[0;34m.\u001b[0m\u001b[0mcheck_response\u001b[0m\u001b[0;34m(\u001b[0m\u001b[0mresponse\u001b[0m\u001b[0;34m)\u001b[0m\u001b[0;34m\u001b[0m\u001b[0;34m\u001b[0m\u001b[0m\n\u001b[0m\u001b[1;32m    322\u001b[0m             response['value'] = self._unwrap_value(\n",
      "\u001b[0;32m~/opt/anaconda3/lib/python3.8/site-packages/selenium/webdriver/remote/errorhandler.py\u001b[0m in \u001b[0;36mcheck_response\u001b[0;34m(self, response)\u001b[0m\n\u001b[1;32m    241\u001b[0m             \u001b[0;32mraise\u001b[0m \u001b[0mexception_class\u001b[0m\u001b[0;34m(\u001b[0m\u001b[0mmessage\u001b[0m\u001b[0;34m,\u001b[0m \u001b[0mscreen\u001b[0m\u001b[0;34m,\u001b[0m \u001b[0mstacktrace\u001b[0m\u001b[0;34m,\u001b[0m \u001b[0malert_text\u001b[0m\u001b[0;34m)\u001b[0m\u001b[0;34m\u001b[0m\u001b[0;34m\u001b[0m\u001b[0m\n\u001b[0;32m--> 242\u001b[0;31m         \u001b[0;32mraise\u001b[0m \u001b[0mexception_class\u001b[0m\u001b[0;34m(\u001b[0m\u001b[0mmessage\u001b[0m\u001b[0;34m,\u001b[0m \u001b[0mscreen\u001b[0m\u001b[0;34m,\u001b[0m \u001b[0mstacktrace\u001b[0m\u001b[0;34m)\u001b[0m\u001b[0;34m\u001b[0m\u001b[0;34m\u001b[0m\u001b[0m\n\u001b[0m\u001b[1;32m    243\u001b[0m \u001b[0;34m\u001b[0m\u001b[0m\n",
      "\u001b[0;31mNoSuchElementException\u001b[0m: Message: no such element: Unable to locate element: {\"method\":\"css selector\",\"selector\":\".error-text-number\"}\n  (Session info: chrome=91.0.4472.114)\n",
      "\nDuring handling of the above exception, another exception occurred:\n",
      "\u001b[0;31mNoSuchElementException\u001b[0m                    Traceback (most recent call last)",
      "\u001b[0;32m<ipython-input-217-afb95822f5d9>\u001b[0m in \u001b[0;36m<module>\u001b[0;34m\u001b[0m\n\u001b[1;32m     48\u001b[0m         \u001b[0md\u001b[0m\u001b[0;34m.\u001b[0m\u001b[0mfind_element_by_class_name\u001b[0m\u001b[0;34m(\u001b[0m\u001b[0;34m'error-text-number'\u001b[0m\u001b[0;34m)\u001b[0m\u001b[0;34m\u001b[0m\u001b[0;34m\u001b[0m\u001b[0m\n\u001b[1;32m     49\u001b[0m     \u001b[0;32mexcept\u001b[0m \u001b[0mNoSuchElementException\u001b[0m\u001b[0;34m:\u001b[0m\u001b[0;34m\u001b[0m\u001b[0;34m\u001b[0m\u001b[0m\n\u001b[0;32m---> 50\u001b[0;31m         \u001b[0mretriever\u001b[0m\u001b[0;34m(\u001b[0m\u001b[0md\u001b[0m\u001b[0;34m,\u001b[0m\u001b[0mcompany\u001b[0m\u001b[0;34m)\u001b[0m\u001b[0;34m\u001b[0m\u001b[0;34m\u001b[0m\u001b[0m\n\u001b[0m\u001b[1;32m     51\u001b[0m     \u001b[0;32melse\u001b[0m\u001b[0;34m:\u001b[0m\u001b[0;34m\u001b[0m\u001b[0;34m\u001b[0m\u001b[0m\n\u001b[1;32m     52\u001b[0m         \u001b[0;32mcontinue\u001b[0m\u001b[0;34m\u001b[0m\u001b[0;34m\u001b[0m\u001b[0m\n",
      "\u001b[0;32m<ipython-input-217-afb95822f5d9>\u001b[0m in \u001b[0;36mretriever\u001b[0;34m(d, name)\u001b[0m\n\u001b[1;32m      1\u001b[0m \u001b[0;32mdef\u001b[0m \u001b[0mretriever\u001b[0m\u001b[0;34m(\u001b[0m\u001b[0md\u001b[0m\u001b[0;34m,\u001b[0m \u001b[0mname\u001b[0m\u001b[0;34m)\u001b[0m\u001b[0;34m:\u001b[0m\u001b[0;34m\u001b[0m\u001b[0;34m\u001b[0m\u001b[0m\n\u001b[1;32m      2\u001b[0m     \u001b[0msleep\u001b[0m\u001b[0;34m(\u001b[0m\u001b[0;36m0.8\u001b[0m\u001b[0;34m)\u001b[0m\u001b[0;34m\u001b[0m\u001b[0;34m\u001b[0m\u001b[0m\n\u001b[0;32m----> 3\u001b[0;31m     \u001b[0mURL\u001b[0m \u001b[0;34m=\u001b[0m \u001b[0md\u001b[0m\u001b[0;34m.\u001b[0m\u001b[0mfind_element_by_xpath\u001b[0m\u001b[0;34m(\u001b[0m\u001b[0;34m'/html/head/meta[10]'\u001b[0m\u001b[0;34m)\u001b[0m\u001b[0;34m.\u001b[0m\u001b[0mget_property\u001b[0m\u001b[0;34m(\u001b[0m\u001b[0;34m'content'\u001b[0m\u001b[0;34m)\u001b[0m\u001b[0;34m\u001b[0m\u001b[0;34m\u001b[0m\u001b[0m\n\u001b[0m\u001b[1;32m      4\u001b[0m     \u001b[0mwebsite\u001b[0m \u001b[0;34m=\u001b[0m \u001b[0md\u001b[0m\u001b[0;34m.\u001b[0m\u001b[0mfind_element_by_xpath\u001b[0m\u001b[0;34m(\u001b[0m\u001b[0;34m'//*[@id=\"leads-sticky-top\"]/div/div[1]/div[3]/div[1]/div[2]/div[2]/div[1]/div[1]/div/div/a'\u001b[0m\u001b[0;34m)\u001b[0m\u001b[0;34m.\u001b[0m\u001b[0mget_property\u001b[0m\u001b[0;34m(\u001b[0m\u001b[0;34m'href'\u001b[0m\u001b[0;34m)\u001b[0m\u001b[0;34m\u001b[0m\u001b[0;34m\u001b[0m\u001b[0m\n\u001b[1;32m      5\u001b[0m \u001b[0;34m\u001b[0m\u001b[0m\n",
      "\u001b[0;32m~/opt/anaconda3/lib/python3.8/site-packages/selenium/webdriver/remote/webdriver.py\u001b[0m in \u001b[0;36mfind_element_by_xpath\u001b[0;34m(self, xpath)\u001b[0m\n\u001b[1;32m    392\u001b[0m             \u001b[0melement\u001b[0m \u001b[0;34m=\u001b[0m \u001b[0mdriver\u001b[0m\u001b[0;34m.\u001b[0m\u001b[0mfind_element_by_xpath\u001b[0m\u001b[0;34m(\u001b[0m\u001b[0;34m'//div/td[1]'\u001b[0m\u001b[0;34m)\u001b[0m\u001b[0;34m\u001b[0m\u001b[0;34m\u001b[0m\u001b[0m\n\u001b[1;32m    393\u001b[0m         \"\"\"\n\u001b[0;32m--> 394\u001b[0;31m         \u001b[0;32mreturn\u001b[0m \u001b[0mself\u001b[0m\u001b[0;34m.\u001b[0m\u001b[0mfind_element\u001b[0m\u001b[0;34m(\u001b[0m\u001b[0mby\u001b[0m\u001b[0;34m=\u001b[0m\u001b[0mBy\u001b[0m\u001b[0;34m.\u001b[0m\u001b[0mXPATH\u001b[0m\u001b[0;34m,\u001b[0m \u001b[0mvalue\u001b[0m\u001b[0;34m=\u001b[0m\u001b[0mxpath\u001b[0m\u001b[0;34m)\u001b[0m\u001b[0;34m\u001b[0m\u001b[0;34m\u001b[0m\u001b[0m\n\u001b[0m\u001b[1;32m    395\u001b[0m \u001b[0;34m\u001b[0m\u001b[0m\n\u001b[1;32m    396\u001b[0m     \u001b[0;32mdef\u001b[0m \u001b[0mfind_elements_by_xpath\u001b[0m\u001b[0;34m(\u001b[0m\u001b[0mself\u001b[0m\u001b[0;34m,\u001b[0m \u001b[0mxpath\u001b[0m\u001b[0;34m)\u001b[0m\u001b[0;34m:\u001b[0m\u001b[0;34m\u001b[0m\u001b[0;34m\u001b[0m\u001b[0m\n",
      "\u001b[0;32m~/opt/anaconda3/lib/python3.8/site-packages/selenium/webdriver/remote/webdriver.py\u001b[0m in \u001b[0;36mfind_element\u001b[0;34m(self, by, value)\u001b[0m\n\u001b[1;32m    974\u001b[0m                 \u001b[0mby\u001b[0m \u001b[0;34m=\u001b[0m \u001b[0mBy\u001b[0m\u001b[0;34m.\u001b[0m\u001b[0mCSS_SELECTOR\u001b[0m\u001b[0;34m\u001b[0m\u001b[0;34m\u001b[0m\u001b[0m\n\u001b[1;32m    975\u001b[0m                 \u001b[0mvalue\u001b[0m \u001b[0;34m=\u001b[0m \u001b[0;34m'[name=\"%s\"]'\u001b[0m \u001b[0;34m%\u001b[0m \u001b[0mvalue\u001b[0m\u001b[0;34m\u001b[0m\u001b[0;34m\u001b[0m\u001b[0m\n\u001b[0;32m--> 976\u001b[0;31m         return self.execute(Command.FIND_ELEMENT, {\n\u001b[0m\u001b[1;32m    977\u001b[0m             \u001b[0;34m'using'\u001b[0m\u001b[0;34m:\u001b[0m \u001b[0mby\u001b[0m\u001b[0;34m,\u001b[0m\u001b[0;34m\u001b[0m\u001b[0;34m\u001b[0m\u001b[0m\n\u001b[1;32m    978\u001b[0m             'value': value})['value']\n",
      "\u001b[0;32m~/opt/anaconda3/lib/python3.8/site-packages/selenium/webdriver/remote/webdriver.py\u001b[0m in \u001b[0;36mexecute\u001b[0;34m(self, driver_command, params)\u001b[0m\n\u001b[1;32m    319\u001b[0m         \u001b[0mresponse\u001b[0m \u001b[0;34m=\u001b[0m \u001b[0mself\u001b[0m\u001b[0;34m.\u001b[0m\u001b[0mcommand_executor\u001b[0m\u001b[0;34m.\u001b[0m\u001b[0mexecute\u001b[0m\u001b[0;34m(\u001b[0m\u001b[0mdriver_command\u001b[0m\u001b[0;34m,\u001b[0m \u001b[0mparams\u001b[0m\u001b[0;34m)\u001b[0m\u001b[0;34m\u001b[0m\u001b[0;34m\u001b[0m\u001b[0m\n\u001b[1;32m    320\u001b[0m         \u001b[0;32mif\u001b[0m \u001b[0mresponse\u001b[0m\u001b[0;34m:\u001b[0m\u001b[0;34m\u001b[0m\u001b[0;34m\u001b[0m\u001b[0m\n\u001b[0;32m--> 321\u001b[0;31m             \u001b[0mself\u001b[0m\u001b[0;34m.\u001b[0m\u001b[0merror_handler\u001b[0m\u001b[0;34m.\u001b[0m\u001b[0mcheck_response\u001b[0m\u001b[0;34m(\u001b[0m\u001b[0mresponse\u001b[0m\u001b[0;34m)\u001b[0m\u001b[0;34m\u001b[0m\u001b[0;34m\u001b[0m\u001b[0m\n\u001b[0m\u001b[1;32m    322\u001b[0m             response['value'] = self._unwrap_value(\n\u001b[1;32m    323\u001b[0m                 response.get('value', None))\n",
      "\u001b[0;32m~/opt/anaconda3/lib/python3.8/site-packages/selenium/webdriver/remote/errorhandler.py\u001b[0m in \u001b[0;36mcheck_response\u001b[0;34m(self, response)\u001b[0m\n\u001b[1;32m    240\u001b[0m                 \u001b[0malert_text\u001b[0m \u001b[0;34m=\u001b[0m \u001b[0mvalue\u001b[0m\u001b[0;34m[\u001b[0m\u001b[0;34m'alert'\u001b[0m\u001b[0;34m]\u001b[0m\u001b[0;34m.\u001b[0m\u001b[0mget\u001b[0m\u001b[0;34m(\u001b[0m\u001b[0;34m'text'\u001b[0m\u001b[0;34m)\u001b[0m\u001b[0;34m\u001b[0m\u001b[0;34m\u001b[0m\u001b[0m\n\u001b[1;32m    241\u001b[0m             \u001b[0;32mraise\u001b[0m \u001b[0mexception_class\u001b[0m\u001b[0;34m(\u001b[0m\u001b[0mmessage\u001b[0m\u001b[0;34m,\u001b[0m \u001b[0mscreen\u001b[0m\u001b[0;34m,\u001b[0m \u001b[0mstacktrace\u001b[0m\u001b[0;34m,\u001b[0m \u001b[0malert_text\u001b[0m\u001b[0;34m)\u001b[0m\u001b[0;34m\u001b[0m\u001b[0;34m\u001b[0m\u001b[0m\n\u001b[0;32m--> 242\u001b[0;31m         \u001b[0;32mraise\u001b[0m \u001b[0mexception_class\u001b[0m\u001b[0;34m(\u001b[0m\u001b[0mmessage\u001b[0m\u001b[0;34m,\u001b[0m \u001b[0mscreen\u001b[0m\u001b[0;34m,\u001b[0m \u001b[0mstacktrace\u001b[0m\u001b[0;34m)\u001b[0m\u001b[0;34m\u001b[0m\u001b[0;34m\u001b[0m\u001b[0m\n\u001b[0m\u001b[1;32m    243\u001b[0m \u001b[0;34m\u001b[0m\u001b[0m\n\u001b[1;32m    244\u001b[0m     \u001b[0;32mdef\u001b[0m \u001b[0m_value_or_default\u001b[0m\u001b[0;34m(\u001b[0m\u001b[0mself\u001b[0m\u001b[0;34m,\u001b[0m \u001b[0mobj\u001b[0m\u001b[0;34m,\u001b[0m \u001b[0mkey\u001b[0m\u001b[0;34m,\u001b[0m \u001b[0mdefault\u001b[0m\u001b[0;34m)\u001b[0m\u001b[0;34m:\u001b[0m\u001b[0;34m\u001b[0m\u001b[0;34m\u001b[0m\u001b[0m\n",
      "\u001b[0;31mNoSuchElementException\u001b[0m: Message: no such element: Unable to locate element: {\"method\":\"xpath\",\"selector\":\"/html/head/meta[10]\"}\n  (Session info: chrome=91.0.4472.114)\n"
     ]
    }
   ],
   "source": [
    "\n",
    "def retriever(d, name):\n",
    "    sleep(0.8)\n",
    "    URL = d.find_element_by_xpath('/html/head/meta[10]').get_property('content')\n",
    "    website = d.find_element_by_xpath('//*[@id=\"leads-sticky-top\"]/div/div[1]/div[3]/div[1]/div[2]/div[2]/div[1]/div[1]/div/div/a').get_property('href')\n",
    "\n",
    "    # try & except on rating and num_view, because some companies don't have them\n",
    "    try:\n",
    "        rating = d.find_element_by_xpath('//*[@id=\"products-dropdown\"]/div[1]/div[1]/span[1]').get_attribute('innerHTML')\n",
    "    except NoSuchElementException:\n",
    "        rating = None\n",
    "    # rating = d.find_element_by_xpath('/html/body/div[1]/div/div/div[1]/div/div[3]/div[1]/div[2]/div[2]/div[2]/div/div[2]/span/meta[3]').get_property('content')\n",
    "    # rating = d.find_element_by_xpath('//meta[@itemprop='ratingValue']').get_property('content')\n",
    "    try:\n",
    "        num_review = d.find_element_by_xpath('/html/body/div[1]/div/div/div[1]/div/div[3]/div[1]/div[2]/div[2]/div[2]/div/div[2]/span/meta[4]').get_property('content')\n",
    "    except NoSuchElementException:\n",
    "        num_review = None\n",
    "    # num_review = d.find_element_by_xpath(\"//meta[@itemprop='reviewCount']\").get_property('content')\n",
    "    description = d.find_element_by_xpath('//*[@id=\"leads-sticky-top\"]/div/div[1]/div[3]/div[1]/div[1]/div[2]/div/p').get_attribute('innerHTML')\n",
    "\n",
    "    # click 'show more' to get company details\n",
    "    show_more = d.find_element_by_xpath('//*[@id=\"leads-sticky-top\"]/div/div[1]/div[3]/div/div[2]/a')\n",
    "    \n",
    "        \n",
    "    # d.execute_script(\"arguments[0].scrollIntoView();\", show_more) # scroll page so that 'show more' is in view\n",
    "    d.execute_script(\"arguments[0].scrollIntoView();\", show_more) \n",
    "    d.execute_script('window.scrollBy(0,-80)') # scroll up a bit so that 'show more' is in view\n",
    "    ActionChains(d).move_to_element(show_more).perform() # hover, otherwise can't click\n",
    "    d.execute_script('arguments[0].click();', show_more)\n",
    "    # show_more.click()\n",
    "\n",
    "    detail = d.find_element_by_xpath('//*[@id=\"leads-sticky-top\"]/div/div[1]/div[3]/div[1]/div[2]').get_attribute('innerText')\n",
    "    \n",
    "    print(URL, website, rating, num_review, description, detail)\n",
    "    g2_info.append([name, URL, website, rating, num_review, description, detail])\n",
    "\n",
    "    # print(num_review)\n",
    "\n",
    "\n",
    "g2_info = []\n",
    "df = pd.read_csv('data_scientist_intern_g2_scraper.csv')\n",
    "companies = df['NAME']\n",
    "for company in companies:\n",
    "    product_url = 'https://www.g2.com/products/' + company + '/reviews'\n",
    "    d = fetch(product_url)\n",
    "    # If found error code (404), ignore this company and continue\n",
    "    # Else retrieve information\n",
    "    try:\n",
    "        d.find_element_by_class_name('error-text-number')\n",
    "    except NoSuchElementException:\n",
    "        retriever(d,company)\n",
    "    else:\n",
    "        continue\n",
    "    sleep(0.8)"
   ]
  },
  {
   "cell_type": "code",
   "execution_count": 229,
   "metadata": {},
   "outputs": [
    {
     "output_type": "execute_result",
     "data": {
      "text/plain": [
       "       name                                           URL  \\\n",
       "0     Shift     https://www.g2.com/products/shift/reviews   \n",
       "1  Forecast  https://www.g2.com/products/forecast/reviews   \n",
       "2  Mindance  https://www.g2.com/products/mindance/reviews   \n",
       "3    Unmind    https://www.g2.com/products/unmind/reviews   \n",
       "4    Birdie    https://www.g2.com/products/birdie/reviews   \n",
       "\n",
       "                                             website rating num_review  \\\n",
       "0                        https://shiftelearning.com/    4.0          2   \n",
       "1                https://www.getharvest.com/forecast    4.4         36   \n",
       "2  https://mindance.de/digitales-mentaltraining-f...   None       None   \n",
       "3       https://home.unmind.com/#anchor-our-solution    4.9          9   \n",
       "4                    https://www.birdie.care/pricing   None       None   \n",
       "\n",
       "                                         description  \\\n",
       "0  SHIFT is a web-based e-learning authoring tool...   \n",
       "1  Forecast organizes your team’s schedule into v...   \n",
       "2  With Mindance we help you to improve the healt...   \n",
       "3  Founded in 2016, Unmind is the leading workpla...   \n",
       "4  Discover Birdie, your complete homecare softwa...   \n",
       "\n",
       "                                              detail  \n",
       "0  SHIFT Details\\nWebsite\\nSHIFT\\nDiscussions\\nSH...  \n",
       "1  Forecast Details\\nWebsite\\nForecast\\nDiscussio...  \n",
       "2  Mindance Details\\nWebsite\\nMindance\\nDiscussio...  \n",
       "3  Unmind Details\\nWebsite\\nUnmind\\nDiscussions\\n...  \n",
       "4  Birdie Details\\nWebsite\\nBirdie\\nDiscussions\\n...  "
      ],
      "text/html": "<div>\n<style scoped>\n    .dataframe tbody tr th:only-of-type {\n        vertical-align: middle;\n    }\n\n    .dataframe tbody tr th {\n        vertical-align: top;\n    }\n\n    .dataframe thead th {\n        text-align: right;\n    }\n</style>\n<table border=\"1\" class=\"dataframe\">\n  <thead>\n    <tr style=\"text-align: right;\">\n      <th></th>\n      <th>name</th>\n      <th>URL</th>\n      <th>website</th>\n      <th>rating</th>\n      <th>num_review</th>\n      <th>description</th>\n      <th>detail</th>\n    </tr>\n  </thead>\n  <tbody>\n    <tr>\n      <th>0</th>\n      <td>Shift</td>\n      <td>https://www.g2.com/products/shift/reviews</td>\n      <td>https://shiftelearning.com/</td>\n      <td>4.0</td>\n      <td>2</td>\n      <td>SHIFT is a web-based e-learning authoring tool...</td>\n      <td>SHIFT Details\\nWebsite\\nSHIFT\\nDiscussions\\nSH...</td>\n    </tr>\n    <tr>\n      <th>1</th>\n      <td>Forecast</td>\n      <td>https://www.g2.com/products/forecast/reviews</td>\n      <td>https://www.getharvest.com/forecast</td>\n      <td>4.4</td>\n      <td>36</td>\n      <td>Forecast organizes your team’s schedule into v...</td>\n      <td>Forecast Details\\nWebsite\\nForecast\\nDiscussio...</td>\n    </tr>\n    <tr>\n      <th>2</th>\n      <td>Mindance</td>\n      <td>https://www.g2.com/products/mindance/reviews</td>\n      <td>https://mindance.de/digitales-mentaltraining-f...</td>\n      <td>None</td>\n      <td>None</td>\n      <td>With Mindance we help you to improve the healt...</td>\n      <td>Mindance Details\\nWebsite\\nMindance\\nDiscussio...</td>\n    </tr>\n    <tr>\n      <th>3</th>\n      <td>Unmind</td>\n      <td>https://www.g2.com/products/unmind/reviews</td>\n      <td>https://home.unmind.com/#anchor-our-solution</td>\n      <td>4.9</td>\n      <td>9</td>\n      <td>Founded in 2016, Unmind is the leading workpla...</td>\n      <td>Unmind Details\\nWebsite\\nUnmind\\nDiscussions\\n...</td>\n    </tr>\n    <tr>\n      <th>4</th>\n      <td>Birdie</td>\n      <td>https://www.g2.com/products/birdie/reviews</td>\n      <td>https://www.birdie.care/pricing</td>\n      <td>None</td>\n      <td>None</td>\n      <td>Discover Birdie, your complete homecare softwa...</td>\n      <td>Birdie Details\\nWebsite\\nBirdie\\nDiscussions\\n...</td>\n    </tr>\n  </tbody>\n</table>\n</div>"
     },
     "metadata": {},
     "execution_count": 229
    }
   ],
   "source": [
    "col = ['NAME', 'URL', 'website', 'rating', 'num_review', 'description', 'detail']\n",
    "g2_info = pd.DataFrame(g2_info, columns=col)\n",
    "g2_info.head()"
   ]
  },
  {
   "cell_type": "code",
   "execution_count": 235,
   "metadata": {},
   "outputs": [],
   "source": [
    "col = ['NAME', 'URL', 'website', 'rating', 'num_review', 'description', 'detail']\n",
    "g2_info.columns=col"
   ]
  },
  {
   "cell_type": "code",
   "execution_count": 231,
   "metadata": {},
   "outputs": [
    {
     "output_type": "execute_result",
     "data": {
      "text/plain": [
       "        id                          NAME                      WEBSITE  \\\n",
       "0  1773270  Matera (formerly illiCopros)       https://www.matera.eu/   \n",
       "1  1659999                         Shift        https://shift.online/   \n",
       "2  1617238                MILES Mobility  https://miles-mobility.com/   \n",
       "3  1519744                      Doktor24          https://doktor24.se   \n",
       "4   975908                      Forecast     https://www.forecast.app   \n",
       "\n",
       "                                             TAGLINE  \\\n",
       "0  Allows residential property owners to self-man...   \n",
       "1                   Move Anything, Anywhere, Anytime   \n",
       "2      An independent carsharing and modern mobility   \n",
       "3  Leading the digitalization of Swedish primary ...   \n",
       "4  AI-powered resource & project management platform   \n",
       "\n",
       "                                           ADDRESS             INDUSTRIES  \n",
       "0       12 Rue du 4 septembre, 75002 Paris, France            real estate  \n",
       "1       40 Islington High St, Islington, London N1  travel;transportation  \n",
       "2          Leibnizstraße 49, 10629 Berlin, Germany         transportation  \n",
       "3             Birger Jarlsgatan, Stockholm, Sweden                 health  \n",
       "4  20, Frederiksborggade, 1360 Copenhagen, Denmark    enterprise software  "
      ],
      "text/html": "<div>\n<style scoped>\n    .dataframe tbody tr th:only-of-type {\n        vertical-align: middle;\n    }\n\n    .dataframe tbody tr th {\n        vertical-align: top;\n    }\n\n    .dataframe thead th {\n        text-align: right;\n    }\n</style>\n<table border=\"1\" class=\"dataframe\">\n  <thead>\n    <tr style=\"text-align: right;\">\n      <th></th>\n      <th>id</th>\n      <th>NAME</th>\n      <th>WEBSITE</th>\n      <th>TAGLINE</th>\n      <th>ADDRESS</th>\n      <th>INDUSTRIES</th>\n    </tr>\n  </thead>\n  <tbody>\n    <tr>\n      <th>0</th>\n      <td>1773270</td>\n      <td>Matera (formerly illiCopros)</td>\n      <td>https://www.matera.eu/</td>\n      <td>Allows residential property owners to self-man...</td>\n      <td>12 Rue du 4 septembre, 75002 Paris, France</td>\n      <td>real estate</td>\n    </tr>\n    <tr>\n      <th>1</th>\n      <td>1659999</td>\n      <td>Shift</td>\n      <td>https://shift.online/</td>\n      <td>Move Anything, Anywhere, Anytime</td>\n      <td>40 Islington High St, Islington, London N1</td>\n      <td>travel;transportation</td>\n    </tr>\n    <tr>\n      <th>2</th>\n      <td>1617238</td>\n      <td>MILES Mobility</td>\n      <td>https://miles-mobility.com/</td>\n      <td>An independent carsharing and modern mobility</td>\n      <td>Leibnizstraße 49, 10629 Berlin, Germany</td>\n      <td>transportation</td>\n    </tr>\n    <tr>\n      <th>3</th>\n      <td>1519744</td>\n      <td>Doktor24</td>\n      <td>https://doktor24.se</td>\n      <td>Leading the digitalization of Swedish primary ...</td>\n      <td>Birger Jarlsgatan, Stockholm, Sweden</td>\n      <td>health</td>\n    </tr>\n    <tr>\n      <th>4</th>\n      <td>975908</td>\n      <td>Forecast</td>\n      <td>https://www.forecast.app</td>\n      <td>AI-powered resource &amp; project management platform</td>\n      <td>20, Frederiksborggade, 1360 Copenhagen, Denmark</td>\n      <td>enterprise software</td>\n    </tr>\n  </tbody>\n</table>\n</div>"
     },
     "metadata": {},
     "execution_count": 231
    }
   ],
   "source": [
    "df.head()"
   ]
  },
  {
   "cell_type": "code",
   "execution_count": 242,
   "metadata": {},
   "outputs": [],
   "source": [
    "scraper = pd.merge(df,g2_info, how='left' ,on=['NAME'])"
   ]
  },
  {
   "cell_type": "code",
   "execution_count": 243,
   "metadata": {},
   "outputs": [
    {
     "output_type": "execute_result",
     "data": {
      "text/plain": [
       "         id                          NAME                      WEBSITE  \\\n",
       "0   1773270  Matera (formerly illiCopros)       https://www.matera.eu/   \n",
       "1   1659999                         Shift        https://shift.online/   \n",
       "2   1617238                MILES Mobility  https://miles-mobility.com/   \n",
       "3   1519744                      Doktor24          https://doktor24.se   \n",
       "4    975908                      Forecast     https://www.forecast.app   \n",
       "5   1715187                       Cognite           http://cognite.com   \n",
       "6   1684271                Trade Republic    https://traderepublic.com   \n",
       "7    916221                         Wrisk              http://wrisk.co   \n",
       "8    953195         Envision Technologies  http://www.letsenvision.com   \n",
       "9   1470475                      Mindance      http://www.mindance.de/   \n",
       "10  1249453                        Unmind          https://unmind.com/   \n",
       "11  1786924                       Spaceos          https://spaceos.io/   \n",
       "12   946686                        Cohabs        http://www.cohabs.com   \n",
       "13  1249239                        Birdie      http://www.birdie.care/   \n",
       "14  1767220                       KogoPAY     https://www.kogopay.com/   \n",
       "15  1663310                       Penfold   https://www.getpenfold.com   \n",
       "16  1511268                  Foodetective       http://foodetective.co   \n",
       "17  1763858                  StudySmarter   http://www.studysmarter.de   \n",
       "18   960353                          Tame         https://tame.events/   \n",
       "19   904542                   Content Cal     http://www.contentcal.io   \n",
       "\n",
       "                                              TAGLINE  \\\n",
       "0   Allows residential property owners to self-man...   \n",
       "1                    Move Anything, Anywhere, Anytime   \n",
       "2       An independent carsharing and modern mobility   \n",
       "3   Leading the digitalization of Swedish primary ...   \n",
       "4   AI-powered resource & project management platform   \n",
       "5                        Industrial iot data platform   \n",
       "6              Mobile-only and commission-free broker   \n",
       "7   Enables its customers to understand and contro...   \n",
       "8   Offers a range of visual recognition features ...   \n",
       "9   Digital mental coach for more focus, strengthe...   \n",
       "10  Unmind is a workplace mental health platform. ...   \n",
       "11  Offers a smart, simple and intuitive web and m...   \n",
       "12  Network of beautiful shared homes for nomads a...   \n",
       "13  We empower care providers with digital product...   \n",
       "14  KogoPAY is a start-up fintech mobile payment f...   \n",
       "15                  The pension for the self-employed   \n",
       "16           Foodetective · We investigate, you enjoy   \n",
       "17  Study Smarter - index cards, summaries, learni...   \n",
       "18  User-friendly event marketing platform that al...   \n",
       "19                        Content management platform   \n",
       "\n",
       "                                              ADDRESS  \\\n",
       "0          12 Rue du 4 septembre, 75002 Paris, France   \n",
       "1          40 Islington High St, Islington, London N1   \n",
       "2             Leibnizstraße 49, 10629 Berlin, Germany   \n",
       "3                Birger Jarlsgatan, Stockholm, Sweden   \n",
       "4     20, Frederiksborggade, 1360 Copenhagen, Denmark   \n",
       "5               Oksenøyveien 10, 1366 Lysaker, Norway   \n",
       "6            Kastanienallee 32, 10435 Berlin, Germany   \n",
       "7             25 Luke St, Shoreditch, London EC2A 4DS   \n",
       "8   35, Wilhelmina van Pruisenweg, 2595 AN The Hag...   \n",
       "9                   Germany, Leipzig, Birkenstraße, 6   \n",
       "10                180 Borough High St, London SE1 1LB   \n",
       "11  Krakowskie Przedmieście 13, 00-071 Warszawa, P...   \n",
       "12                Rue de Praetere, Bruxelles, Belgium   \n",
       "13    11 Lewisham Way, New Cross, London SE14 6PP, UK   \n",
       "14          Building 3, Oakleigh Rd S, London N11 1NP   \n",
       "15                          1 Long Ln, London SE1 4PG   \n",
       "16  Rue de la Terrassière 23, 1207 Genève, Switzer...   \n",
       "17           Chausseestraße 84, 10115 Berlin, Germany   \n",
       "18             Klerkegade 19, 1304 København, Denmark   \n",
       "19                           145 City Rd, London EC1V   \n",
       "\n",
       "                    INDUSTRIES                                           URL  \\\n",
       "0                  real estate                                           NaN   \n",
       "1        travel;transportation     https://www.g2.com/products/shift/reviews   \n",
       "2               transportation                                           NaN   \n",
       "3                       health                                           NaN   \n",
       "4          enterprise software  https://www.g2.com/products/forecast/reviews   \n",
       "5                          NaN                                           NaN   \n",
       "6                      fintech                                           NaN   \n",
       "7                      fintech                                           NaN   \n",
       "8                       health                                           NaN   \n",
       "9       health;wellness beauty  https://www.g2.com/products/mindance/reviews   \n",
       "10  health;enterprise software    https://www.g2.com/products/unmind/reviews   \n",
       "11                 real estate                                           NaN   \n",
       "12     real estate;home living                                           NaN   \n",
       "13                      health    https://www.g2.com/products/birdie/reviews   \n",
       "14                     fintech                                           NaN   \n",
       "15                     fintech                                           NaN   \n",
       "16                  food;media                                           NaN   \n",
       "17             media;education                                           NaN   \n",
       "18                  event tech      https://www.g2.com/products/tame/reviews   \n",
       "19                       media                                           NaN   \n",
       "\n",
       "                                              website rating num_review  \\\n",
       "0                                                 NaN    NaN        NaN   \n",
       "1                         https://shiftelearning.com/    4.0          2   \n",
       "2                                                 NaN    NaN        NaN   \n",
       "3                                                 NaN    NaN        NaN   \n",
       "4                 https://www.getharvest.com/forecast    4.4         36   \n",
       "5                                                 NaN    NaN        NaN   \n",
       "6                                                 NaN    NaN        NaN   \n",
       "7                                                 NaN    NaN        NaN   \n",
       "8                                                 NaN    NaN        NaN   \n",
       "9   https://mindance.de/digitales-mentaltraining-f...   None       None   \n",
       "10       https://home.unmind.com/#anchor-our-solution    4.9          9   \n",
       "11                                                NaN    NaN        NaN   \n",
       "12                                                NaN    NaN        NaN   \n",
       "13                    https://www.birdie.care/pricing   None       None   \n",
       "14                                                NaN    NaN        NaN   \n",
       "15                                                NaN    NaN        NaN   \n",
       "16                                                NaN    NaN        NaN   \n",
       "17                                                NaN    NaN        NaN   \n",
       "18                               https://tame.events/   None       None   \n",
       "19                                                NaN    NaN        NaN   \n",
       "\n",
       "                                          description  \\\n",
       "0                                                 NaN   \n",
       "1   SHIFT is a web-based e-learning authoring tool...   \n",
       "2                                                 NaN   \n",
       "3                                                 NaN   \n",
       "4   Forecast organizes your team’s schedule into v...   \n",
       "5                                                 NaN   \n",
       "6                                                 NaN   \n",
       "7                                                 NaN   \n",
       "8                                                 NaN   \n",
       "9   With Mindance we help you to improve the healt...   \n",
       "10  Founded in 2016, Unmind is the leading workpla...   \n",
       "11                                                NaN   \n",
       "12                                                NaN   \n",
       "13  Discover Birdie, your complete homecare softwa...   \n",
       "14                                                NaN   \n",
       "15                                                NaN   \n",
       "16                                                NaN   \n",
       "17                                                NaN   \n",
       "18  Tame is a beautiful all-in-one planning tool f...   \n",
       "19                                                NaN   \n",
       "\n",
       "                                               detail  \n",
       "0                                                 NaN  \n",
       "1   SHIFT Details\\nWebsite\\nSHIFT\\nDiscussions\\nSH...  \n",
       "2                                                 NaN  \n",
       "3                                                 NaN  \n",
       "4   Forecast Details\\nWebsite\\nForecast\\nDiscussio...  \n",
       "5                                                 NaN  \n",
       "6                                                 NaN  \n",
       "7                                                 NaN  \n",
       "8                                                 NaN  \n",
       "9   Mindance Details\\nWebsite\\nMindance\\nDiscussio...  \n",
       "10  Unmind Details\\nWebsite\\nUnmind\\nDiscussions\\n...  \n",
       "11                                                NaN  \n",
       "12                                                NaN  \n",
       "13  Birdie Details\\nWebsite\\nBirdie\\nDiscussions\\n...  \n",
       "14                                                NaN  \n",
       "15                                                NaN  \n",
       "16                                                NaN  \n",
       "17                                                NaN  \n",
       "18  Tame Details\\nWebsite\\nTame\\nDiscussions\\nTame...  \n",
       "19                                                NaN  "
      ],
      "text/html": "<div>\n<style scoped>\n    .dataframe tbody tr th:only-of-type {\n        vertical-align: middle;\n    }\n\n    .dataframe tbody tr th {\n        vertical-align: top;\n    }\n\n    .dataframe thead th {\n        text-align: right;\n    }\n</style>\n<table border=\"1\" class=\"dataframe\">\n  <thead>\n    <tr style=\"text-align: right;\">\n      <th></th>\n      <th>id</th>\n      <th>NAME</th>\n      <th>WEBSITE</th>\n      <th>TAGLINE</th>\n      <th>ADDRESS</th>\n      <th>INDUSTRIES</th>\n      <th>URL</th>\n      <th>website</th>\n      <th>rating</th>\n      <th>num_review</th>\n      <th>description</th>\n      <th>detail</th>\n    </tr>\n  </thead>\n  <tbody>\n    <tr>\n      <th>0</th>\n      <td>1773270</td>\n      <td>Matera (formerly illiCopros)</td>\n      <td>https://www.matera.eu/</td>\n      <td>Allows residential property owners to self-man...</td>\n      <td>12 Rue du 4 septembre, 75002 Paris, France</td>\n      <td>real estate</td>\n      <td>NaN</td>\n      <td>NaN</td>\n      <td>NaN</td>\n      <td>NaN</td>\n      <td>NaN</td>\n      <td>NaN</td>\n    </tr>\n    <tr>\n      <th>1</th>\n      <td>1659999</td>\n      <td>Shift</td>\n      <td>https://shift.online/</td>\n      <td>Move Anything, Anywhere, Anytime</td>\n      <td>40 Islington High St, Islington, London N1</td>\n      <td>travel;transportation</td>\n      <td>https://www.g2.com/products/shift/reviews</td>\n      <td>https://shiftelearning.com/</td>\n      <td>4.0</td>\n      <td>2</td>\n      <td>SHIFT is a web-based e-learning authoring tool...</td>\n      <td>SHIFT Details\\nWebsite\\nSHIFT\\nDiscussions\\nSH...</td>\n    </tr>\n    <tr>\n      <th>2</th>\n      <td>1617238</td>\n      <td>MILES Mobility</td>\n      <td>https://miles-mobility.com/</td>\n      <td>An independent carsharing and modern mobility</td>\n      <td>Leibnizstraße 49, 10629 Berlin, Germany</td>\n      <td>transportation</td>\n      <td>NaN</td>\n      <td>NaN</td>\n      <td>NaN</td>\n      <td>NaN</td>\n      <td>NaN</td>\n      <td>NaN</td>\n    </tr>\n    <tr>\n      <th>3</th>\n      <td>1519744</td>\n      <td>Doktor24</td>\n      <td>https://doktor24.se</td>\n      <td>Leading the digitalization of Swedish primary ...</td>\n      <td>Birger Jarlsgatan, Stockholm, Sweden</td>\n      <td>health</td>\n      <td>NaN</td>\n      <td>NaN</td>\n      <td>NaN</td>\n      <td>NaN</td>\n      <td>NaN</td>\n      <td>NaN</td>\n    </tr>\n    <tr>\n      <th>4</th>\n      <td>975908</td>\n      <td>Forecast</td>\n      <td>https://www.forecast.app</td>\n      <td>AI-powered resource &amp; project management platform</td>\n      <td>20, Frederiksborggade, 1360 Copenhagen, Denmark</td>\n      <td>enterprise software</td>\n      <td>https://www.g2.com/products/forecast/reviews</td>\n      <td>https://www.getharvest.com/forecast</td>\n      <td>4.4</td>\n      <td>36</td>\n      <td>Forecast organizes your team’s schedule into v...</td>\n      <td>Forecast Details\\nWebsite\\nForecast\\nDiscussio...</td>\n    </tr>\n    <tr>\n      <th>5</th>\n      <td>1715187</td>\n      <td>Cognite</td>\n      <td>http://cognite.com</td>\n      <td>Industrial iot data platform</td>\n      <td>Oksenøyveien 10, 1366 Lysaker, Norway</td>\n      <td>NaN</td>\n      <td>NaN</td>\n      <td>NaN</td>\n      <td>NaN</td>\n      <td>NaN</td>\n      <td>NaN</td>\n      <td>NaN</td>\n    </tr>\n    <tr>\n      <th>6</th>\n      <td>1684271</td>\n      <td>Trade Republic</td>\n      <td>https://traderepublic.com</td>\n      <td>Mobile-only and commission-free broker</td>\n      <td>Kastanienallee 32, 10435 Berlin, Germany</td>\n      <td>fintech</td>\n      <td>NaN</td>\n      <td>NaN</td>\n      <td>NaN</td>\n      <td>NaN</td>\n      <td>NaN</td>\n      <td>NaN</td>\n    </tr>\n    <tr>\n      <th>7</th>\n      <td>916221</td>\n      <td>Wrisk</td>\n      <td>http://wrisk.co</td>\n      <td>Enables its customers to understand and contro...</td>\n      <td>25 Luke St, Shoreditch, London EC2A 4DS</td>\n      <td>fintech</td>\n      <td>NaN</td>\n      <td>NaN</td>\n      <td>NaN</td>\n      <td>NaN</td>\n      <td>NaN</td>\n      <td>NaN</td>\n    </tr>\n    <tr>\n      <th>8</th>\n      <td>953195</td>\n      <td>Envision Technologies</td>\n      <td>http://www.letsenvision.com</td>\n      <td>Offers a range of visual recognition features ...</td>\n      <td>35, Wilhelmina van Pruisenweg, 2595 AN The Hag...</td>\n      <td>health</td>\n      <td>NaN</td>\n      <td>NaN</td>\n      <td>NaN</td>\n      <td>NaN</td>\n      <td>NaN</td>\n      <td>NaN</td>\n    </tr>\n    <tr>\n      <th>9</th>\n      <td>1470475</td>\n      <td>Mindance</td>\n      <td>http://www.mindance.de/</td>\n      <td>Digital mental coach for more focus, strengthe...</td>\n      <td>Germany, Leipzig, Birkenstraße, 6</td>\n      <td>health;wellness beauty</td>\n      <td>https://www.g2.com/products/mindance/reviews</td>\n      <td>https://mindance.de/digitales-mentaltraining-f...</td>\n      <td>None</td>\n      <td>None</td>\n      <td>With Mindance we help you to improve the healt...</td>\n      <td>Mindance Details\\nWebsite\\nMindance\\nDiscussio...</td>\n    </tr>\n    <tr>\n      <th>10</th>\n      <td>1249453</td>\n      <td>Unmind</td>\n      <td>https://unmind.com/</td>\n      <td>Unmind is a workplace mental health platform. ...</td>\n      <td>180 Borough High St, London SE1 1LB</td>\n      <td>health;enterprise software</td>\n      <td>https://www.g2.com/products/unmind/reviews</td>\n      <td>https://home.unmind.com/#anchor-our-solution</td>\n      <td>4.9</td>\n      <td>9</td>\n      <td>Founded in 2016, Unmind is the leading workpla...</td>\n      <td>Unmind Details\\nWebsite\\nUnmind\\nDiscussions\\n...</td>\n    </tr>\n    <tr>\n      <th>11</th>\n      <td>1786924</td>\n      <td>Spaceos</td>\n      <td>https://spaceos.io/</td>\n      <td>Offers a smart, simple and intuitive web and m...</td>\n      <td>Krakowskie Przedmieście 13, 00-071 Warszawa, P...</td>\n      <td>real estate</td>\n      <td>NaN</td>\n      <td>NaN</td>\n      <td>NaN</td>\n      <td>NaN</td>\n      <td>NaN</td>\n      <td>NaN</td>\n    </tr>\n    <tr>\n      <th>12</th>\n      <td>946686</td>\n      <td>Cohabs</td>\n      <td>http://www.cohabs.com</td>\n      <td>Network of beautiful shared homes for nomads a...</td>\n      <td>Rue de Praetere, Bruxelles, Belgium</td>\n      <td>real estate;home living</td>\n      <td>NaN</td>\n      <td>NaN</td>\n      <td>NaN</td>\n      <td>NaN</td>\n      <td>NaN</td>\n      <td>NaN</td>\n    </tr>\n    <tr>\n      <th>13</th>\n      <td>1249239</td>\n      <td>Birdie</td>\n      <td>http://www.birdie.care/</td>\n      <td>We empower care providers with digital product...</td>\n      <td>11 Lewisham Way, New Cross, London SE14 6PP, UK</td>\n      <td>health</td>\n      <td>https://www.g2.com/products/birdie/reviews</td>\n      <td>https://www.birdie.care/pricing</td>\n      <td>None</td>\n      <td>None</td>\n      <td>Discover Birdie, your complete homecare softwa...</td>\n      <td>Birdie Details\\nWebsite\\nBirdie\\nDiscussions\\n...</td>\n    </tr>\n    <tr>\n      <th>14</th>\n      <td>1767220</td>\n      <td>KogoPAY</td>\n      <td>https://www.kogopay.com/</td>\n      <td>KogoPAY is a start-up fintech mobile payment f...</td>\n      <td>Building 3, Oakleigh Rd S, London N11 1NP</td>\n      <td>fintech</td>\n      <td>NaN</td>\n      <td>NaN</td>\n      <td>NaN</td>\n      <td>NaN</td>\n      <td>NaN</td>\n      <td>NaN</td>\n    </tr>\n    <tr>\n      <th>15</th>\n      <td>1663310</td>\n      <td>Penfold</td>\n      <td>https://www.getpenfold.com</td>\n      <td>The pension for the self-employed</td>\n      <td>1 Long Ln, London SE1 4PG</td>\n      <td>fintech</td>\n      <td>NaN</td>\n      <td>NaN</td>\n      <td>NaN</td>\n      <td>NaN</td>\n      <td>NaN</td>\n      <td>NaN</td>\n    </tr>\n    <tr>\n      <th>16</th>\n      <td>1511268</td>\n      <td>Foodetective</td>\n      <td>http://foodetective.co</td>\n      <td>Foodetective · We investigate, you enjoy</td>\n      <td>Rue de la Terrassière 23, 1207 Genève, Switzer...</td>\n      <td>food;media</td>\n      <td>NaN</td>\n      <td>NaN</td>\n      <td>NaN</td>\n      <td>NaN</td>\n      <td>NaN</td>\n      <td>NaN</td>\n    </tr>\n    <tr>\n      <th>17</th>\n      <td>1763858</td>\n      <td>StudySmarter</td>\n      <td>http://www.studysmarter.de</td>\n      <td>Study Smarter - index cards, summaries, learni...</td>\n      <td>Chausseestraße 84, 10115 Berlin, Germany</td>\n      <td>media;education</td>\n      <td>NaN</td>\n      <td>NaN</td>\n      <td>NaN</td>\n      <td>NaN</td>\n      <td>NaN</td>\n      <td>NaN</td>\n    </tr>\n    <tr>\n      <th>18</th>\n      <td>960353</td>\n      <td>Tame</td>\n      <td>https://tame.events/</td>\n      <td>User-friendly event marketing platform that al...</td>\n      <td>Klerkegade 19, 1304 København, Denmark</td>\n      <td>event tech</td>\n      <td>https://www.g2.com/products/tame/reviews</td>\n      <td>https://tame.events/</td>\n      <td>None</td>\n      <td>None</td>\n      <td>Tame is a beautiful all-in-one planning tool f...</td>\n      <td>Tame Details\\nWebsite\\nTame\\nDiscussions\\nTame...</td>\n    </tr>\n    <tr>\n      <th>19</th>\n      <td>904542</td>\n      <td>Content Cal</td>\n      <td>http://www.contentcal.io</td>\n      <td>Content management platform</td>\n      <td>145 City Rd, London EC1V</td>\n      <td>media</td>\n      <td>NaN</td>\n      <td>NaN</td>\n      <td>NaN</td>\n      <td>NaN</td>\n      <td>NaN</td>\n      <td>NaN</td>\n    </tr>\n  </tbody>\n</table>\n</div>"
     },
     "metadata": {},
     "execution_count": 243
    }
   ],
   "source": [
    "scraper.head(20)"
   ]
  },
  {
   "cell_type": "code",
   "execution_count": 206,
   "metadata": {},
   "outputs": [
    {
     "output_type": "stream",
     "name": "stdout",
     "text": [
      "Dropbox Reviews 2021: Details, Pricing, & Features | G2\n"
     ]
    },
    {
     "output_type": "error",
     "ename": "NoSuchElementException",
     "evalue": "Message: no such element: Unable to locate element: {\"method\":\"css selector\",\"selector\":\".error-text-number\"}\n  (Session info: chrome=91.0.4472.114)\n",
     "traceback": [
      "\u001b[0;31m---------------------------------------------------------------------------\u001b[0m",
      "\u001b[0;31mNoSuchElementException\u001b[0m                    Traceback (most recent call last)",
      "\u001b[0;32m<ipython-input-206-bb9135e70e1b>\u001b[0m in \u001b[0;36m<module>\u001b[0;34m\u001b[0m\n\u001b[1;32m      2\u001b[0m \u001b[0;34m\u001b[0m\u001b[0m\n\u001b[1;32m      3\u001b[0m \u001b[0md\u001b[0m \u001b[0;34m=\u001b[0m \u001b[0mfetch\u001b[0m\u001b[0;34m(\u001b[0m\u001b[0;34m'https://www.g2.com/products/dropbox/reviews'\u001b[0m\u001b[0;34m)\u001b[0m\u001b[0;34m\u001b[0m\u001b[0;34m\u001b[0m\u001b[0m\n\u001b[0;32m----> 4\u001b[0;31m \u001b[0merror\u001b[0m \u001b[0;34m=\u001b[0m \u001b[0md\u001b[0m\u001b[0;34m.\u001b[0m\u001b[0mfind_element_by_class_name\u001b[0m\u001b[0;34m(\u001b[0m\u001b[0;34m'error-text-number'\u001b[0m\u001b[0;34m)\u001b[0m\u001b[0;34m\u001b[0m\u001b[0;34m\u001b[0m\u001b[0m\n\u001b[0m\u001b[1;32m      5\u001b[0m \u001b[0mprint\u001b[0m\u001b[0;34m(\u001b[0m\u001b[0merror\u001b[0m\u001b[0;34m.\u001b[0m\u001b[0mget_attribute\u001b[0m\u001b[0;34m(\u001b[0m\u001b[0;34m'innerText'\u001b[0m\u001b[0;34m)\u001b[0m\u001b[0;34m)\u001b[0m\u001b[0;34m\u001b[0m\u001b[0;34m\u001b[0m\u001b[0m\n",
      "\u001b[0;32m~/opt/anaconda3/lib/python3.8/site-packages/selenium/webdriver/remote/webdriver.py\u001b[0m in \u001b[0;36mfind_element_by_class_name\u001b[0;34m(self, name)\u001b[0m\n\u001b[1;32m    562\u001b[0m             \u001b[0melement\u001b[0m \u001b[0;34m=\u001b[0m \u001b[0mdriver\u001b[0m\u001b[0;34m.\u001b[0m\u001b[0mfind_element_by_class_name\u001b[0m\u001b[0;34m(\u001b[0m\u001b[0;34m'foo'\u001b[0m\u001b[0;34m)\u001b[0m\u001b[0;34m\u001b[0m\u001b[0;34m\u001b[0m\u001b[0m\n\u001b[1;32m    563\u001b[0m         \"\"\"\n\u001b[0;32m--> 564\u001b[0;31m         \u001b[0;32mreturn\u001b[0m \u001b[0mself\u001b[0m\u001b[0;34m.\u001b[0m\u001b[0mfind_element\u001b[0m\u001b[0;34m(\u001b[0m\u001b[0mby\u001b[0m\u001b[0;34m=\u001b[0m\u001b[0mBy\u001b[0m\u001b[0;34m.\u001b[0m\u001b[0mCLASS_NAME\u001b[0m\u001b[0;34m,\u001b[0m \u001b[0mvalue\u001b[0m\u001b[0;34m=\u001b[0m\u001b[0mname\u001b[0m\u001b[0;34m)\u001b[0m\u001b[0;34m\u001b[0m\u001b[0;34m\u001b[0m\u001b[0m\n\u001b[0m\u001b[1;32m    565\u001b[0m \u001b[0;34m\u001b[0m\u001b[0m\n\u001b[1;32m    566\u001b[0m     \u001b[0;32mdef\u001b[0m \u001b[0mfind_elements_by_class_name\u001b[0m\u001b[0;34m(\u001b[0m\u001b[0mself\u001b[0m\u001b[0;34m,\u001b[0m \u001b[0mname\u001b[0m\u001b[0;34m)\u001b[0m\u001b[0;34m:\u001b[0m\u001b[0;34m\u001b[0m\u001b[0;34m\u001b[0m\u001b[0m\n",
      "\u001b[0;32m~/opt/anaconda3/lib/python3.8/site-packages/selenium/webdriver/remote/webdriver.py\u001b[0m in \u001b[0;36mfind_element\u001b[0;34m(self, by, value)\u001b[0m\n\u001b[1;32m    974\u001b[0m                 \u001b[0mby\u001b[0m \u001b[0;34m=\u001b[0m \u001b[0mBy\u001b[0m\u001b[0;34m.\u001b[0m\u001b[0mCSS_SELECTOR\u001b[0m\u001b[0;34m\u001b[0m\u001b[0;34m\u001b[0m\u001b[0m\n\u001b[1;32m    975\u001b[0m                 \u001b[0mvalue\u001b[0m \u001b[0;34m=\u001b[0m \u001b[0;34m'[name=\"%s\"]'\u001b[0m \u001b[0;34m%\u001b[0m \u001b[0mvalue\u001b[0m\u001b[0;34m\u001b[0m\u001b[0;34m\u001b[0m\u001b[0m\n\u001b[0;32m--> 976\u001b[0;31m         return self.execute(Command.FIND_ELEMENT, {\n\u001b[0m\u001b[1;32m    977\u001b[0m             \u001b[0;34m'using'\u001b[0m\u001b[0;34m:\u001b[0m \u001b[0mby\u001b[0m\u001b[0;34m,\u001b[0m\u001b[0;34m\u001b[0m\u001b[0;34m\u001b[0m\u001b[0m\n\u001b[1;32m    978\u001b[0m             'value': value})['value']\n",
      "\u001b[0;32m~/opt/anaconda3/lib/python3.8/site-packages/selenium/webdriver/remote/webdriver.py\u001b[0m in \u001b[0;36mexecute\u001b[0;34m(self, driver_command, params)\u001b[0m\n\u001b[1;32m    319\u001b[0m         \u001b[0mresponse\u001b[0m \u001b[0;34m=\u001b[0m \u001b[0mself\u001b[0m\u001b[0;34m.\u001b[0m\u001b[0mcommand_executor\u001b[0m\u001b[0;34m.\u001b[0m\u001b[0mexecute\u001b[0m\u001b[0;34m(\u001b[0m\u001b[0mdriver_command\u001b[0m\u001b[0;34m,\u001b[0m \u001b[0mparams\u001b[0m\u001b[0;34m)\u001b[0m\u001b[0;34m\u001b[0m\u001b[0;34m\u001b[0m\u001b[0m\n\u001b[1;32m    320\u001b[0m         \u001b[0;32mif\u001b[0m \u001b[0mresponse\u001b[0m\u001b[0;34m:\u001b[0m\u001b[0;34m\u001b[0m\u001b[0;34m\u001b[0m\u001b[0m\n\u001b[0;32m--> 321\u001b[0;31m             \u001b[0mself\u001b[0m\u001b[0;34m.\u001b[0m\u001b[0merror_handler\u001b[0m\u001b[0;34m.\u001b[0m\u001b[0mcheck_response\u001b[0m\u001b[0;34m(\u001b[0m\u001b[0mresponse\u001b[0m\u001b[0;34m)\u001b[0m\u001b[0;34m\u001b[0m\u001b[0;34m\u001b[0m\u001b[0m\n\u001b[0m\u001b[1;32m    322\u001b[0m             response['value'] = self._unwrap_value(\n\u001b[1;32m    323\u001b[0m                 response.get('value', None))\n",
      "\u001b[0;32m~/opt/anaconda3/lib/python3.8/site-packages/selenium/webdriver/remote/errorhandler.py\u001b[0m in \u001b[0;36mcheck_response\u001b[0;34m(self, response)\u001b[0m\n\u001b[1;32m    240\u001b[0m                 \u001b[0malert_text\u001b[0m \u001b[0;34m=\u001b[0m \u001b[0mvalue\u001b[0m\u001b[0;34m[\u001b[0m\u001b[0;34m'alert'\u001b[0m\u001b[0;34m]\u001b[0m\u001b[0;34m.\u001b[0m\u001b[0mget\u001b[0m\u001b[0;34m(\u001b[0m\u001b[0;34m'text'\u001b[0m\u001b[0;34m)\u001b[0m\u001b[0;34m\u001b[0m\u001b[0;34m\u001b[0m\u001b[0m\n\u001b[1;32m    241\u001b[0m             \u001b[0;32mraise\u001b[0m \u001b[0mexception_class\u001b[0m\u001b[0;34m(\u001b[0m\u001b[0mmessage\u001b[0m\u001b[0;34m,\u001b[0m \u001b[0mscreen\u001b[0m\u001b[0;34m,\u001b[0m \u001b[0mstacktrace\u001b[0m\u001b[0;34m,\u001b[0m \u001b[0malert_text\u001b[0m\u001b[0;34m)\u001b[0m\u001b[0;34m\u001b[0m\u001b[0;34m\u001b[0m\u001b[0m\n\u001b[0;32m--> 242\u001b[0;31m         \u001b[0;32mraise\u001b[0m \u001b[0mexception_class\u001b[0m\u001b[0;34m(\u001b[0m\u001b[0mmessage\u001b[0m\u001b[0;34m,\u001b[0m \u001b[0mscreen\u001b[0m\u001b[0;34m,\u001b[0m \u001b[0mstacktrace\u001b[0m\u001b[0;34m)\u001b[0m\u001b[0;34m\u001b[0m\u001b[0;34m\u001b[0m\u001b[0m\n\u001b[0m\u001b[1;32m    243\u001b[0m \u001b[0;34m\u001b[0m\u001b[0m\n\u001b[1;32m    244\u001b[0m     \u001b[0;32mdef\u001b[0m \u001b[0m_value_or_default\u001b[0m\u001b[0;34m(\u001b[0m\u001b[0mself\u001b[0m\u001b[0;34m,\u001b[0m \u001b[0mobj\u001b[0m\u001b[0;34m,\u001b[0m \u001b[0mkey\u001b[0m\u001b[0;34m,\u001b[0m \u001b[0mdefault\u001b[0m\u001b[0;34m)\u001b[0m\u001b[0;34m:\u001b[0m\u001b[0;34m\u001b[0m\u001b[0;34m\u001b[0m\u001b[0m\n",
      "\u001b[0;31mNoSuchElementException\u001b[0m: Message: no such element: Unable to locate element: {\"method\":\"css selector\",\"selector\":\".error-text-number\"}\n  (Session info: chrome=91.0.4472.114)\n"
     ]
    }
   ],
   "source": [
    "# test attributes\n",
    "\n",
    "d = fetch('https://www.g2.com/products/dropbox/reviews')\n",
    "error = d.find_element_by_class_name('error-text-number')\n",
    "print(error.get_attribute('innerText'))"
   ]
  },
  {
   "cell_type": "code",
   "execution_count": 177,
   "metadata": {},
   "outputs": [
    {
     "output_type": "stream",
     "name": "stdout",
     "text": [
      "Miles Reviews 2021: Details, Pricing, & Features | G2\n"
     ]
    }
   ],
   "source": [
    "# 面向对象\n",
    "from selenium.common.exceptions import NoSuchElementException\n",
    "class Company(object):\n",
    "    def __init__(self, name):\n",
    "        self.name = name\n",
    "        self.product_url = 'https://www.g2.com/products/' + name + '/reviews'\n",
    "\n",
    "\n",
    "    def fetch(self):\n",
    "        options = se.webdriver.ChromeOptions()\n",
    "        options.add_argument('--headless')\n",
    "        options.add_argument('--disable-infobars')\n",
    "        options.add_argument('--disable-extensions')\n",
    "        options.add_argument('--profile-directory=Default')\n",
    "        options.add_argument('--incognito')\n",
    "        options.add_argument('--disable-plugins-discovery')\n",
    "        options.add_argument('--start-maximized')\n",
    "        self.driver = webdriver.Chrome()\n",
    "        self.driver.get(self.product_url)\n",
    "        print(self.driver.title)\n",
    "\n",
    "    \n",
    "    def get_URL(self):\n",
    "        try:\n",
    "            self.URL = self.driver.find_element_by_xpath('/html/head/meta[10]').get_property('content')\n",
    "        print(self.URL)\n",
    "\n",
    "    def get_website(self):\n",
    "        self.website = self.driver.find_element_by_xpath('//*[@id=\"leads-sticky-top\"]/div/div[1]/div[3]/div[1]/div[2]/div[2]/div[1]/div[1]/div/div/a').get_property('href')\n",
    "        print(self.website)\n",
    "\n",
    "    def retrieve(self):\n",
    "        for func in (self.fetch, self.get_URL, self.get_website):\n",
    "            try:\n",
    "                func()\n",
    "            except NoSuchElementException:\n",
    "                continue\n",
    "            else:\n",
    "                break\n",
    "\n",
    "\n",
    "companies = ['miles']\n",
    "objs = list()\n",
    "for company in companies:\n",
    "    obj = Company(company)\n",
    "    objs.append(obj)\n",
    "    obj.retrieve()\n",
    "    sleep(0.8)\n"
   ]
  },
  {
   "cell_type": "code",
   "execution_count": null,
   "metadata": {},
   "outputs": [],
   "source": [
    "def retriever(d):\n",
    "    sleep(0.8)\n",
    "    URL = d.find_element_by_xpath('/html/head/meta[10]').get_property('content')\n",
    "    website = d.find_element_by_xpath('//*[@id=\"leads-sticky-top\"]/div/div[1]/div[3]/div[1]/div[2]/div[2]/div[1]/div[1]/div/div/a').get_property('href')\n",
    "    rating = d.find_element_by_xpath('//*[@id=\"products-dropdown\"]/div[1]/div[1]/span[1]').get_attribute('innerHTML')\n",
    "    # rating = d.find_element_by_xpath('/html/body/div[1]/div/div/div[1]/div/div[3]/div[1]/div[2]/div[2]/div[2]/div/div[2]/span/meta[3]').get_property('content')\n",
    "    # rating = d.find_element_by_xpath('//meta[@itemprop='ratingValue']').get_property('content')\n",
    "    num_review = d.find_element_by_xpath('/html/body/div[1]/div/div/div[1]/div/div[3]/div[1]/div[2]/div[2]/div[2]/div/div[2]/span/meta[4]').get_property('content')\n",
    "    # num_review = d.find_element_by_xpath(\"//meta[@itemprop='reviewCount']\").get_property('content')\n",
    "    description = d.find_element_by_xpath('//*[@id=\"leads-sticky-top\"]/div/div[1]/div[3]/div[1]/div[2]/div[3]/p').get_attribute('innerHTML')\n",
    "    product_detail = d.find_element_by_xpath('//*[@id=\"leads-sticky-top\"]/div/div[1]/div[3]/div[1]/div[1]/div[2]/div/p/text()').get_attribute('innerText')\n",
    "    company_detail = d.find_element_by_xpath('//*[@id=\"leads-sticky-top\"]/div/div[1]/div[3]/div[1]/div[2]/div[5]').get_attribute('innerText')\n",
    "    \n",
    "    print(URL, website, rating, num_review, description, product_detail, company_detail)\n",
    "    # print(num_review)\n",
    "\n"
   ]
  },
  {
   "cell_type": "code",
   "execution_count": 158,
   "metadata": {},
   "outputs": [
    {
     "output_type": "stream",
     "name": "stdout",
     "text": [
      "Miles Reviews 2021: Details, Pricing, & Features | G2\n"
     ]
    },
    {
     "output_type": "error",
     "ename": "NoSuchElementException",
     "evalue": "Message: no such element: Unable to locate element: {\"method\":\"xpath\",\"selector\":\"//*[@id=\"products-dropdown\"]/div[1]/div[1]/span[1]\"}\n  (Session info: chrome=91.0.4472.114)\n",
     "traceback": [
      "\u001b[0;31m---------------------------------------------------------------------------\u001b[0m",
      "\u001b[0;31mNoSuchElementException\u001b[0m                    Traceback (most recent call last)",
      "\u001b[0;32m<ipython-input-158-9e461e574fde>\u001b[0m in \u001b[0;36m<module>\u001b[0;34m\u001b[0m\n\u001b[1;32m      2\u001b[0m \u001b[0;32mfor\u001b[0m \u001b[0mcompany\u001b[0m \u001b[0;32min\u001b[0m \u001b[0mcompanies\u001b[0m\u001b[0;34m:\u001b[0m\u001b[0;34m\u001b[0m\u001b[0;34m\u001b[0m\u001b[0m\n\u001b[1;32m      3\u001b[0m     \u001b[0mproduct_url\u001b[0m \u001b[0;34m=\u001b[0m \u001b[0;34m'https://www.g2.com/products/'\u001b[0m \u001b[0;34m+\u001b[0m \u001b[0mcompany\u001b[0m \u001b[0;34m+\u001b[0m \u001b[0;34m'/reviews'\u001b[0m\u001b[0;34m\u001b[0m\u001b[0;34m\u001b[0m\u001b[0m\n\u001b[0;32m----> 4\u001b[0;31m     \u001b[0mretriever\u001b[0m\u001b[0;34m(\u001b[0m\u001b[0mfetch\u001b[0m\u001b[0;34m(\u001b[0m\u001b[0mproduct_url\u001b[0m\u001b[0;34m)\u001b[0m\u001b[0;34m)\u001b[0m\u001b[0;34m\u001b[0m\u001b[0;34m\u001b[0m\u001b[0m\n\u001b[0m\u001b[1;32m      5\u001b[0m     \u001b[0msleep\u001b[0m\u001b[0;34m(\u001b[0m\u001b[0;36m0.8\u001b[0m\u001b[0;34m)\u001b[0m\u001b[0;34m\u001b[0m\u001b[0;34m\u001b[0m\u001b[0m\n",
      "\u001b[0;32m<ipython-input-151-569c7d96e124>\u001b[0m in \u001b[0;36mretriever\u001b[0;34m(d)\u001b[0m\n\u001b[1;32m      3\u001b[0m     \u001b[0mURL\u001b[0m \u001b[0;34m=\u001b[0m \u001b[0md\u001b[0m\u001b[0;34m.\u001b[0m\u001b[0mfind_element_by_xpath\u001b[0m\u001b[0;34m(\u001b[0m\u001b[0;34m'/html/head/meta[10]'\u001b[0m\u001b[0;34m)\u001b[0m\u001b[0;34m.\u001b[0m\u001b[0mget_property\u001b[0m\u001b[0;34m(\u001b[0m\u001b[0;34m'content'\u001b[0m\u001b[0;34m)\u001b[0m\u001b[0;34m\u001b[0m\u001b[0;34m\u001b[0m\u001b[0m\n\u001b[1;32m      4\u001b[0m     \u001b[0mwebsite\u001b[0m \u001b[0;34m=\u001b[0m \u001b[0md\u001b[0m\u001b[0;34m.\u001b[0m\u001b[0mfind_element_by_xpath\u001b[0m\u001b[0;34m(\u001b[0m\u001b[0;34m'//*[@id=\"leads-sticky-top\"]/div/div[1]/div[3]/div[1]/div[2]/div[2]/div[1]/div[1]/div/div/a'\u001b[0m\u001b[0;34m)\u001b[0m\u001b[0;34m.\u001b[0m\u001b[0mget_property\u001b[0m\u001b[0;34m(\u001b[0m\u001b[0;34m'href'\u001b[0m\u001b[0;34m)\u001b[0m\u001b[0;34m\u001b[0m\u001b[0;34m\u001b[0m\u001b[0m\n\u001b[0;32m----> 5\u001b[0;31m     \u001b[0mrating\u001b[0m \u001b[0;34m=\u001b[0m \u001b[0md\u001b[0m\u001b[0;34m.\u001b[0m\u001b[0mfind_element_by_xpath\u001b[0m\u001b[0;34m(\u001b[0m\u001b[0;34m'//*[@id=\"products-dropdown\"]/div[1]/div[1]/span[1]'\u001b[0m\u001b[0;34m)\u001b[0m\u001b[0;34m.\u001b[0m\u001b[0mget_attribute\u001b[0m\u001b[0;34m(\u001b[0m\u001b[0;34m'innerHTML'\u001b[0m\u001b[0;34m)\u001b[0m\u001b[0;34m\u001b[0m\u001b[0;34m\u001b[0m\u001b[0m\n\u001b[0m\u001b[1;32m      6\u001b[0m     \u001b[0;31m# rating = d.find_element_by_xpath('/html/body/div[1]/div/div/div[1]/div/div[3]/div[1]/div[2]/div[2]/div[2]/div/div[2]/span/meta[3]').get_property('content')\u001b[0m\u001b[0;34m\u001b[0m\u001b[0;34m\u001b[0m\u001b[0;34m\u001b[0m\u001b[0m\n\u001b[1;32m      7\u001b[0m     \u001b[0;31m# rating = d.find_element_by_xpath('//meta[@itemprop='ratingValue']').get_property('content')\u001b[0m\u001b[0;34m\u001b[0m\u001b[0;34m\u001b[0m\u001b[0;34m\u001b[0m\u001b[0m\n",
      "\u001b[0;32m~/opt/anaconda3/lib/python3.8/site-packages/selenium/webdriver/remote/webdriver.py\u001b[0m in \u001b[0;36mfind_element_by_xpath\u001b[0;34m(self, xpath)\u001b[0m\n\u001b[1;32m    392\u001b[0m             \u001b[0melement\u001b[0m \u001b[0;34m=\u001b[0m \u001b[0mdriver\u001b[0m\u001b[0;34m.\u001b[0m\u001b[0mfind_element_by_xpath\u001b[0m\u001b[0;34m(\u001b[0m\u001b[0;34m'//div/td[1]'\u001b[0m\u001b[0;34m)\u001b[0m\u001b[0;34m\u001b[0m\u001b[0;34m\u001b[0m\u001b[0m\n\u001b[1;32m    393\u001b[0m         \"\"\"\n\u001b[0;32m--> 394\u001b[0;31m         \u001b[0;32mreturn\u001b[0m \u001b[0mself\u001b[0m\u001b[0;34m.\u001b[0m\u001b[0mfind_element\u001b[0m\u001b[0;34m(\u001b[0m\u001b[0mby\u001b[0m\u001b[0;34m=\u001b[0m\u001b[0mBy\u001b[0m\u001b[0;34m.\u001b[0m\u001b[0mXPATH\u001b[0m\u001b[0;34m,\u001b[0m \u001b[0mvalue\u001b[0m\u001b[0;34m=\u001b[0m\u001b[0mxpath\u001b[0m\u001b[0;34m)\u001b[0m\u001b[0;34m\u001b[0m\u001b[0;34m\u001b[0m\u001b[0m\n\u001b[0m\u001b[1;32m    395\u001b[0m \u001b[0;34m\u001b[0m\u001b[0m\n\u001b[1;32m    396\u001b[0m     \u001b[0;32mdef\u001b[0m \u001b[0mfind_elements_by_xpath\u001b[0m\u001b[0;34m(\u001b[0m\u001b[0mself\u001b[0m\u001b[0;34m,\u001b[0m \u001b[0mxpath\u001b[0m\u001b[0;34m)\u001b[0m\u001b[0;34m:\u001b[0m\u001b[0;34m\u001b[0m\u001b[0;34m\u001b[0m\u001b[0m\n",
      "\u001b[0;32m~/opt/anaconda3/lib/python3.8/site-packages/selenium/webdriver/remote/webdriver.py\u001b[0m in \u001b[0;36mfind_element\u001b[0;34m(self, by, value)\u001b[0m\n\u001b[1;32m    974\u001b[0m                 \u001b[0mby\u001b[0m \u001b[0;34m=\u001b[0m \u001b[0mBy\u001b[0m\u001b[0;34m.\u001b[0m\u001b[0mCSS_SELECTOR\u001b[0m\u001b[0;34m\u001b[0m\u001b[0;34m\u001b[0m\u001b[0m\n\u001b[1;32m    975\u001b[0m                 \u001b[0mvalue\u001b[0m \u001b[0;34m=\u001b[0m \u001b[0;34m'[name=\"%s\"]'\u001b[0m \u001b[0;34m%\u001b[0m \u001b[0mvalue\u001b[0m\u001b[0;34m\u001b[0m\u001b[0;34m\u001b[0m\u001b[0m\n\u001b[0;32m--> 976\u001b[0;31m         return self.execute(Command.FIND_ELEMENT, {\n\u001b[0m\u001b[1;32m    977\u001b[0m             \u001b[0;34m'using'\u001b[0m\u001b[0;34m:\u001b[0m \u001b[0mby\u001b[0m\u001b[0;34m,\u001b[0m\u001b[0;34m\u001b[0m\u001b[0;34m\u001b[0m\u001b[0m\n\u001b[1;32m    978\u001b[0m             'value': value})['value']\n",
      "\u001b[0;32m~/opt/anaconda3/lib/python3.8/site-packages/selenium/webdriver/remote/webdriver.py\u001b[0m in \u001b[0;36mexecute\u001b[0;34m(self, driver_command, params)\u001b[0m\n\u001b[1;32m    319\u001b[0m         \u001b[0mresponse\u001b[0m \u001b[0;34m=\u001b[0m \u001b[0mself\u001b[0m\u001b[0;34m.\u001b[0m\u001b[0mcommand_executor\u001b[0m\u001b[0;34m.\u001b[0m\u001b[0mexecute\u001b[0m\u001b[0;34m(\u001b[0m\u001b[0mdriver_command\u001b[0m\u001b[0;34m,\u001b[0m \u001b[0mparams\u001b[0m\u001b[0;34m)\u001b[0m\u001b[0;34m\u001b[0m\u001b[0;34m\u001b[0m\u001b[0m\n\u001b[1;32m    320\u001b[0m         \u001b[0;32mif\u001b[0m \u001b[0mresponse\u001b[0m\u001b[0;34m:\u001b[0m\u001b[0;34m\u001b[0m\u001b[0;34m\u001b[0m\u001b[0m\n\u001b[0;32m--> 321\u001b[0;31m             \u001b[0mself\u001b[0m\u001b[0;34m.\u001b[0m\u001b[0merror_handler\u001b[0m\u001b[0;34m.\u001b[0m\u001b[0mcheck_response\u001b[0m\u001b[0;34m(\u001b[0m\u001b[0mresponse\u001b[0m\u001b[0;34m)\u001b[0m\u001b[0;34m\u001b[0m\u001b[0;34m\u001b[0m\u001b[0m\n\u001b[0m\u001b[1;32m    322\u001b[0m             response['value'] = self._unwrap_value(\n\u001b[1;32m    323\u001b[0m                 response.get('value', None))\n",
      "\u001b[0;32m~/opt/anaconda3/lib/python3.8/site-packages/selenium/webdriver/remote/errorhandler.py\u001b[0m in \u001b[0;36mcheck_response\u001b[0;34m(self, response)\u001b[0m\n\u001b[1;32m    240\u001b[0m                 \u001b[0malert_text\u001b[0m \u001b[0;34m=\u001b[0m \u001b[0mvalue\u001b[0m\u001b[0;34m[\u001b[0m\u001b[0;34m'alert'\u001b[0m\u001b[0;34m]\u001b[0m\u001b[0;34m.\u001b[0m\u001b[0mget\u001b[0m\u001b[0;34m(\u001b[0m\u001b[0;34m'text'\u001b[0m\u001b[0;34m)\u001b[0m\u001b[0;34m\u001b[0m\u001b[0;34m\u001b[0m\u001b[0m\n\u001b[1;32m    241\u001b[0m             \u001b[0;32mraise\u001b[0m \u001b[0mexception_class\u001b[0m\u001b[0;34m(\u001b[0m\u001b[0mmessage\u001b[0m\u001b[0;34m,\u001b[0m \u001b[0mscreen\u001b[0m\u001b[0;34m,\u001b[0m \u001b[0mstacktrace\u001b[0m\u001b[0;34m,\u001b[0m \u001b[0malert_text\u001b[0m\u001b[0;34m)\u001b[0m\u001b[0;34m\u001b[0m\u001b[0;34m\u001b[0m\u001b[0m\n\u001b[0;32m--> 242\u001b[0;31m         \u001b[0;32mraise\u001b[0m \u001b[0mexception_class\u001b[0m\u001b[0;34m(\u001b[0m\u001b[0mmessage\u001b[0m\u001b[0;34m,\u001b[0m \u001b[0mscreen\u001b[0m\u001b[0;34m,\u001b[0m \u001b[0mstacktrace\u001b[0m\u001b[0;34m)\u001b[0m\u001b[0;34m\u001b[0m\u001b[0;34m\u001b[0m\u001b[0m\n\u001b[0m\u001b[1;32m    243\u001b[0m \u001b[0;34m\u001b[0m\u001b[0m\n\u001b[1;32m    244\u001b[0m     \u001b[0;32mdef\u001b[0m \u001b[0m_value_or_default\u001b[0m\u001b[0;34m(\u001b[0m\u001b[0mself\u001b[0m\u001b[0;34m,\u001b[0m \u001b[0mobj\u001b[0m\u001b[0;34m,\u001b[0m \u001b[0mkey\u001b[0m\u001b[0;34m,\u001b[0m \u001b[0mdefault\u001b[0m\u001b[0;34m)\u001b[0m\u001b[0;34m:\u001b[0m\u001b[0;34m\u001b[0m\u001b[0;34m\u001b[0m\u001b[0m\n",
      "\u001b[0;31mNoSuchElementException\u001b[0m: Message: no such element: Unable to locate element: {\"method\":\"xpath\",\"selector\":\"//*[@id=\"products-dropdown\"]/div[1]/div[1]/span[1]\"}\n  (Session info: chrome=91.0.4472.114)\n"
     ]
    }
   ],
   "source": [
    "companies = ['miles']\n",
    "for company in companies:\n",
    "    product_url = 'https://www.g2.com/products/' + company + '/reviews'\n",
    "    retriever(fetch(product_url))\n",
    "    sleep(0.8)"
   ]
  },
  {
   "source": [
    "# Test\n"
   ],
   "cell_type": "markdown",
   "metadata": {}
  },
  {
   "cell_type": "code",
   "execution_count": 143,
   "metadata": {},
   "outputs": [
    {
     "output_type": "stream",
     "name": "stdout",
     "text": [
      "Dropbox Pricing 2021 | G2\n"
     ]
    }
   ],
   "source": [
    "# pricing\n",
    "d = fetch('https://www.g2.com/products/dropbox/pricing')\n",
    "det = d.find_elements_by_xpath('//*[@id=\"leads-sticky-top\"]/div/div[1]/div[2]/table/tbody') #没有空格区分，但已经有全部内容了\n",
    "# det = d.find_element_by_class_name('ml-1')\n",
    "# det = d.find_element_by_xpath('//*[@id=\"leads-sticky-top\"]/div/div[1]/div[3]/div[1]/div[2]/div[5]/text()')\n",
    "# print(det.text)"
   ]
  },
  {
   "cell_type": "code",
   "execution_count": 144,
   "metadata": {},
   "outputs": [
    {
     "output_type": "stream",
     "name": "stdout",
     "text": [
      "Basic\n$0\nAlways free\nFree storage and access to files across multiple devices. Learn more at dropbox.com/basic\n2GB storage\nBest-in-class sync technology\n256-bit AES and SSL encryption\nMS Office 365 integration\nDropbox badge (in Office collaboration tool)\nShow More\nProfessional\n$19.99\n/month if billed annually\nAdditional space and powerful work tools for business professionals. Learn more at dropbox.com/pro\nEverything in Plus\n2 TB (2,000 GB) of space\nSmart Sync: Save hard disk space\nShowcase: Present and track your work\nShared link controls\nShow More\nPlus\n$9.99\n/month (if billed annually)\nAdditional storage space and expanded access. Learn more at dropbox.com/plus\n1TB (1,000GB) storage\nBest-in-class sync technology\n256-bit AES And SSL encryption\nMS Office 365 integration\nDropbox badge (in Office collaboration tool)\nShow More\nBasic\n$0\nAlways free\nFree storage and access to files across multiple devices. Learn more at dropbox.com/basic\n2GB storage\nBest-in-class sync technology\n256-bit AES and SSL encryption\nMS Office 365 integration\nDropbox badge (in Office collaboration tool)\nShow More\nProfessional\n$19.99\n/month if billed annually\nAdditional space and powerful work tools for business professionals. Learn more at dropbox.com/pro\nEverything in Plus\n2 TB (2,000 GB) of space\nSmart Sync: Save hard disk space\nShowcase: Present and track your work\nShared link controls\nShow More\nPlus\n$9.99\n/month (if billed annually)\nAdditional storage space and expanded access. Learn more at dropbox.com/plus\n1TB (1,000GB) storage\nBest-in-class sync technology\n256-bit AES And SSL encryption\nMS Office 365 integration\nDropbox badge (in Office collaboration tool)\nShow More\n1\n"
     ]
    }
   ],
   "source": [
    "for i in det:\n",
    "    print(i.get_attribute('outerText'))\n",
    "    print(i.get_attribute('innerText'))\n",
    "    print('1')\n",
    "# print(det.get_attribute('outerText'))"
   ]
  },
  {
   "cell_type": "code",
   "execution_count": 73,
   "metadata": {},
   "outputs": [
    {
     "output_type": "execute_result",
     "data": {
      "text/plain": [
       "'Dropbox brings your files together, in one central place. They’re easy to find and safely synced across all your devices—so you can access them anytime, anywhere. No more wasting the day tracking down work.'"
      ]
     },
     "metadata": {},
     "execution_count": 73
    }
   ],
   "source": [
    "description.get_attribute('innerHTML')"
   ]
  },
  {
   "cell_type": "code",
   "execution_count": 52,
   "metadata": {},
   "outputs": [
    {
     "output_type": "execute_result",
     "data": {
      "text/plain": [
       "'https://trello.com/tour'"
      ]
     },
     "metadata": {},
     "execution_count": 52
    }
   ],
   "source": [
    "website.get_property('href')\n"
   ]
  },
  {
   "cell_type": "code",
   "execution_count": 44,
   "metadata": {},
   "outputs": [
    {
     "output_type": "error",
     "ename": "SyntaxError",
     "evalue": "invalid syntax (<ipython-input-44-c927b4c2484f>, line 1)",
     "traceback": [
      "\u001b[0;36m  File \u001b[0;32m\"<ipython-input-44-c927b4c2484f>\"\u001b[0;36m, line \u001b[0;32m1\u001b[0m\n\u001b[0;31m    //*[@id=\"leads-sticky-top\"]/div/div[1]/div[3]/div[1]/div[2]/div[2]/div[1]/div[1]/div/div/a\u001b[0m\n\u001b[0m    ^\u001b[0m\n\u001b[0;31mSyntaxError\u001b[0m\u001b[0;31m:\u001b[0m invalid syntax\n"
     ]
    }
   ],
   "source": [
    "//*[@id=\"leads-sticky-top\"]/div/div[1]/div[3]/div[1]/div[2]/div[2]/div[1]/div[1]/div/div/a"
   ]
  },
  {
   "cell_type": "code",
   "execution_count": 148,
   "metadata": {},
   "outputs": [
    {
     "output_type": "execute_result",
     "data": {
      "text/plain": [
       "True"
      ]
     },
     "metadata": {},
     "execution_count": 148
    }
   ],
   "source": [
    "True or False"
   ]
  },
  {
   "cell_type": "code",
   "execution_count": 247,
   "metadata": {},
   "outputs": [
    {
     "output_type": "stream",
     "name": "stdout",
     "text": [
      "Business Software and Services Reviews | G2\n"
     ]
    },
    {
     "output_type": "execute_result",
     "data": {
      "text/plain": [
       "<selenium.webdriver.chrome.webdriver.WebDriver (session=\"d76284ead56685b0079b3765c9778368\")>"
      ]
     },
     "metadata": {},
     "execution_count": 247
    }
   ],
   "source": [
    "\n",
    "import undetected_chromedriver as uc \n",
    "def fetch():\n",
    "    # options = se.webdriver.ChromeOptions()\n",
    "\n",
    "    options = se.webdriver.ChromeOptions()\n",
    "    options.add_argument('--headless')\n",
    "    options.add_argument('--disable-infobars')\n",
    "    options.add_argument('--disable-extensions')\n",
    "    options.add_argument('--profile-directory=Default')\n",
    "    options.add_argument('--incognito')\n",
    "    options.add_argument('--disable-plugins-discovery')\n",
    "    options.add_argument('--start-maximized')\n",
    "    driver = uc.Chrome(options=options)\n",
    "    driver.get('https://www.g2.com')\n",
    "\n",
    "    print(driver.title)\n",
    "    return driver\n",
    "fetch()"
   ]
  },
  {
   "cell_type": "code",
   "execution_count": null,
   "metadata": {},
   "outputs": [],
   "source": []
  }
 ]
}